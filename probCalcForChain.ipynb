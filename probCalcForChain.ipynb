{
 "cells": [
  {
   "cell_type": "code",
   "execution_count": 88,
   "metadata": {},
   "outputs": [],
   "source": [
    "\"\"\"\n",
    "We have: Bel(x) = P(x|e), here e is both e+ and e-\n",
    "pi(x) = p(x|e-) i.e., evidence from above: So if it's parent is known in distribution\n",
    "                                            then, x is also known in distribution\n",
    "lmbda(x) = p(e+|x) i.e., given x what is evidence. It is from below.\n",
    "Bel(x) = alpha * pi(x) * lambda(x)\n",
    "BEL(x) is like p(x)\n",
    "\n",
    "Now, pi(y) = pi(x)*M[0] and normalization: parent's dist and M decides child dist.\n",
    "\n",
    "also lambda(y) = P(e|y)\n",
    "and lambda(x) = P(e|x) which is more like Sum p(e, y|x) = P(y|x)*P(e|y, x) and P(e|y.x) = p(e|y)\n",
    "So lambda(x) = M[0]*lambda(y)\n",
    "\"\"\"\n",
    "import numpy as np"
   ]
  },
  {
   "cell_type": "code",
   "execution_count": 89,
   "metadata": {},
   "outputs": [],
   "source": [
    "vNames = [\"X\", \"Y\", \"Z\"]\n",
    "M = [None, None]\n",
    "lmbda = [None, None, None]\n",
    "pi =[None, None, None]\n",
    "BEL = [None, None, None]"
   ]
  },
  {
   "cell_type": "code",
   "execution_count": 90,
   "metadata": {},
   "outputs": [],
   "source": [
    "M[0] = np.array([[0.8, 0.1, 0.1], [0.1, 0.8, 0.1], [0.1, 0.1, 0.8]])\n",
    "M[1] = np.array([ [0.8, 0.2], [0.6, 0.4], [0.5, 0.5] ])"
   ]
  },
  {
   "cell_type": "code",
   "execution_count": 91,
   "metadata": {},
   "outputs": [],
   "source": [
    "for i in range(len(lmbda)):\n",
    "    lmbda[i] = np.array([1]*3)\n",
    "\n",
    "lmbda[2] = np.array([1, 1])"
   ]
  },
  {
   "cell_type": "code",
   "execution_count": 93,
   "metadata": {},
   "outputs": [],
   "source": [
    "#Going down....\n",
    "pi[0] = np.array([0.8, 0.1, 0.1])\n",
    "BEL[0] = pi[0]* lmbda[0]"
   ]
  },
  {
   "cell_type": "code",
   "execution_count": 94,
   "metadata": {},
   "outputs": [
    {
     "name": "stdout",
     "output_type": "stream",
     "text": [
      "pi[ 1 ]:  [0.66 0.17 0.17]\n",
      "BEL[ 1 ]:  [0.66 0.17 0.17]\n",
      "pi[ 2 ]:  [0.715 0.285]\n",
      "BEL[ 2 ]:  [0.715 0.285]\n"
     ]
    }
   ],
   "source": [
    "for i in [1, 2]:\n",
    "    pi[i] = np.dot(pi[i-1], M[i-1])\n",
    "    print(\"pi[\",i,\"]: \", pi[i])\n",
    "    BEL[i] = pi[i]*lmbda[i]\n",
    "    print(\"BEL[\",i,\"]: \", BEL[i])"
   ]
  },
  {
   "cell_type": "code",
   "execution_count": 95,
   "metadata": {},
   "outputs": [
    {
     "data": {
      "text/plain": [
       "(array([0.73846154, 0.14265734, 0.11888112]), array([0.8, 0.6, 0.5]))"
      ]
     },
     "execution_count": 95,
     "metadata": {},
     "output_type": "execute_result"
    }
   ],
   "source": [
    "#Now going up: lambda[1] = [0.8, 0.6, 0.5]\n",
    "lmbda[1] = np.array([0.8, 0.6, 0.5])\n",
    "BEL[1] = pi[1] * lmbda[1]\n",
    "BEL[1] = BEL[1]/sum(BEL[1])\n",
    "BEL[1], lmbda[1]"
   ]
  },
  {
   "cell_type": "code",
   "execution_count": 96,
   "metadata": {},
   "outputs": [],
   "source": [
    "lmbda[0] = np.dot(M[0], lmbda[1])\n",
    "BEL[0] = pi[0]*lmbda[0]\n",
    "BEL[0] = BEL[0]/sum(BEL[0])"
   ]
  },
  {
   "cell_type": "code",
   "execution_count": 97,
   "metadata": {},
   "outputs": [
    {
     "data": {
      "text/plain": [
       "([array([0.75, 0.61, 0.54]), array([0.8, 0.6, 0.5]), array([1, 1])],\n",
       " [array([0.8, 0.1, 0.1]), array([0.66, 0.17, 0.17]), array([0.715, 0.285])],\n",
       " [array([[0.8, 0.1, 0.1],\n",
       "         [0.1, 0.8, 0.1],\n",
       "         [0.1, 0.1, 0.8]]), array([[0.8, 0.2],\n",
       "         [0.6, 0.4],\n",
       "         [0.5, 0.5]])],\n",
       " [array([0.83916084, 0.08531469, 0.07552448]),\n",
       "  array([0.73846154, 0.14265734, 0.11888112]),\n",
       "  array([0.715, 0.285])])"
      ]
     },
     "execution_count": 97,
     "metadata": {},
     "output_type": "execute_result"
    }
   ],
   "source": [
    "lmbda, pi, M, BEL"
   ]
  },
  {
   "cell_type": "code",
   "execution_count": 98,
   "metadata": {},
   "outputs": [
    {
     "data": {
      "text/plain": [
       "[array([0.33653846, 0.35192308, 0.31153846]),\n",
       " array([0.73846154, 0.14265734, 0.11888112]),\n",
       " array([0.715, 0.285])]"
      ]
     },
     "execution_count": 98,
     "metadata": {},
     "output_type": "execute_result"
    }
   ],
   "source": [
    "#Now again going down...\n",
    "pi[0] = np.array([0.28, 0.36, 0.36])\n",
    "BEL[0] = pi[0]*lmbda[0]\n",
    "BEL[0] /= sum(BEL[0])\n",
    "BEL"
   ]
  },
  {
   "cell_type": "code",
   "execution_count": 99,
   "metadata": {},
   "outputs": [
    {
     "name": "stdout",
     "output_type": "stream",
     "text": [
      "pi[ 1 ]:  [0.296 0.352 0.352]\n",
      "BEL[ 1 ]:  [0.2368 0.2112 0.176 ]\n",
      "pi[ 2 ]:  [0.624 0.376]\n",
      "BEL[ 2 ]:  [0.624 0.376]\n"
     ]
    }
   ],
   "source": [
    "for i in [1, 2]:\n",
    "    pi[i] = np.dot(pi[i-1], M[i-1])\n",
    "    print(\"pi[\",i,\"]: \", pi[i])\n",
    "    BEL[i] = pi[i]*lmbda[i]\n",
    "    print(\"BEL[\",i,\"]: \", BEL[i])"
   ]
  },
  {
   "cell_type": "code",
   "execution_count": 100,
   "metadata": {},
   "outputs": [
    {
     "data": {
      "text/plain": [
       "array([0.37948718, 0.33846154, 0.28205128])"
      ]
     },
     "execution_count": 100,
     "metadata": {},
     "output_type": "execute_result"
    }
   ],
   "source": [
    "BEL[1]/sum(BEL[1])"
   ]
  },
  {
   "cell_type": "code",
   "execution_count": null,
   "metadata": {},
   "outputs": [],
   "source": []
  }
 ],
 "metadata": {
  "kernelspec": {
   "display_name": "Python 3",
   "language": "python",
   "name": "python3"
  },
  "language_info": {
   "codemirror_mode": {
    "name": "ipython",
    "version": 3
   },
   "file_extension": ".py",
   "mimetype": "text/x-python",
   "name": "python",
   "nbconvert_exporter": "python",
   "pygments_lexer": "ipython3",
   "version": "3.6.9"
  }
 },
 "nbformat": 4,
 "nbformat_minor": 2
}
