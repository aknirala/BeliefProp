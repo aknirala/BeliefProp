{
 "cells": [
  {
   "cell_type": "code",
   "execution_count": 1,
   "metadata": {},
   "outputs": [
    {
     "name": "stdout",
     "output_type": "stream",
     "text": [
      ">> A\n",
      ">> B\n",
      ">> C\n",
      "\n",
      "A \t| B,\t C \t| Prob\n",
      "====================\n",
      "1 \t| True,\t Haku \t| 0.1\n",
      "1 \t| True,\t Mata \t| 0.2\n",
      "1 \t| Fals,\t Haku \t| 0.3\n",
      "1 \t| Fals,\t Mata \t| 0.4\n",
      "2 \t| True,\t Haku \t| 0.5\n",
      "2 \t| True,\t Mata \t| 0.6\n",
      "2 \t| Fals,\t Haku \t| 0.7\n",
      "2 \t| Fals,\t Mata \t| 0.8\n",
      "3 \t| True,\t Haku \t| 0.9\n",
      "3 \t| True,\t Mata \t| 1.0\n",
      "3 \t| Fals,\t Haku \t| 1.1\n",
      "3 \t| Fals,\t Mata \t| 1.2\n"
     ]
    }
   ],
   "source": [
    "\"\"\"\n",
    "Creating alltogether a new graph is not a good idea\n",
    "It will require a lot of deep cloning!\n",
    "\n",
    "We need to update children, and after collapse they should happen \n",
    "\"\"\"\n",
    "%run BNRep.ipynb"
   ]
  },
  {
   "cell_type": "code",
   "execution_count": 2,
   "metadata": {},
   "outputs": [],
   "source": [
    "G = []\n",
    "A = Vertex(\"A: Metastatic Cancer\")\n",
    "B = Vertex(\"B: Increased total serum calcium\")\n",
    "C = Vertex(\"C: Brain tumor\")\n",
    "D = Vertex(\"D: Coma\")\n",
    "E = Vertex(\"E: Severe headaches\")\n",
    "\n",
    "A.values = [True, False]\n",
    "B.values = [True, False]\n",
    "C.values = [True, False]\n",
    "D.values = [True, False]\n",
    "E.values = [True, False]\n",
    "\n",
    "a_cpt = CPT([A], [0.2, 0.8])\n",
    "b_cpt = CPT([B, A], [0.8, 0.2, 0.2, 0.8])\n",
    "c_cpt = CPT([C, A], [0.2, 0.05, 0.8, 0.95])\n",
    "d_cpt = CPT([D, B, C], [0.8, 0.8, 0.8, 0.05, \n",
    "                        0.2, 0.2, 0.2, 0.95])\n",
    "e_cpt = CPT([E, C], [0.8, 0.6, 0.2, 0.4])\n",
    "A.CPT = a_cpt\n",
    "B.CPT = b_cpt\n",
    "C.CPT = c_cpt\n",
    "D.CPT = d_cpt\n",
    "E.CPT = e_cpt\n",
    "\n",
    "G = [A, B, C, D, E]"
   ]
  },
  {
   "cell_type": "code",
   "execution_count": 27,
   "metadata": {},
   "outputs": [],
   "source": [
    "def setChildren(G):\n",
    "    \"\"\"\n",
    "    Given a graph, as list of nodes, it'll update \n",
    "    children for all nodes\n",
    "    \"\"\"\n",
    "    for n in G:\n",
    "        n.children = []\n",
    "    for n in G:\n",
    "        for p in n.parents:\n",
    "            p.children += [n]"
   ]
  },
  {
   "cell_type": "code",
   "execution_count": 82,
   "metadata": {},
   "outputs": [],
   "source": [
    "def collapse(G, nodes, newName):\n",
    "    \"\"\"\n",
    "    It will return a new graph (aka list of nodes)\n",
    "    where new graph will replace all of the nodes by newNode\n",
    "    \"\"\"\n",
    "    setChildren(G)\n",
    "    nG = [N for N in G if N not in nodes]\n",
    "    pSet = set()\n",
    "    cSet = set()\n",
    "    for n in nodes:\n",
    "        pSet = pSet.union(set(n.parents))\n",
    "        cSet = cSet.union(set(n.children))\n",
    "    nNode = Vertex(newName)\n",
    "    nNode.parents = list(pSet)\n",
    "    nNode.children = list(cSet)\n",
    "    nNode.origG = G\n",
    "    nNode.origNodes = nodes\n",
    "    nG += [nNode]\n",
    "    pCard = np.prod(#[1] +  #So that we have 2 values\n",
    "            [n.nCard() for n in nNode.parents])\n",
    "    #card = prod of all avlues taken by nodes\n",
    "    card = np.prod([n.nCard() for n in nodes])\n",
    "    nNode.values = [i for i in range(card)]\n",
    "    #\n",
    "    #Now, calculate newNode|it's parents\n",
    "    probs = []\n",
    "    nodesVals = [0]*len(nodes)\n",
    "    nNodeMap = {}\n",
    "    for nV in nNode.values:  #Till card\n",
    "        if nV != 0: #then increment values in nodesVals\n",
    "            for idx in range(len(nodes)-1, -1, -1):\n",
    "                nodesVals[idx] += 1\n",
    "                if nodesVals[idx] < nodes[idx].nCard():\n",
    "                        break\n",
    "                nodesVals[idx] = 0\n",
    "        nNodeMap[nV] = [v for v in nodesVals] #Trying to copy \n",
    "        # the list At this point we have values for all the nodes\n",
    "        #Now for each value we'll fill values for all the parents!\n",
    "        pVals = [0]*len(nNode.parents)\n",
    "        for pIdx in range(pCard):\n",
    "            if pIdx != 0:\n",
    "                for idx in range(len(pVals)-1, -1, -1):\n",
    "                    pVals[idx] += 1\n",
    "                    if pVals[idx] < nNode.parents[idx].nCard():\n",
    "                        break\n",
    "                    pVals[idx] = 0\n",
    "            t_prob = 1\n",
    "            for nIdx in range(len(nodes)):\n",
    "                #Find the probability of this node, given\n",
    "                # the value it takes along with it's parent\n",
    "                nArgs = [nodesVals[nIdx]]\n",
    "                node = nodes[nIdx]\n",
    "                for p in node.parents:\n",
    "                    nArgs += [pVals[nNode.parents.index(p)]]\n",
    "                t_prob *= node.CPT.getP4mIdx(nArgs)\n",
    "            probs += [t_prob]\n",
    "    nNode.CPT = CPT([nNode]+nNode.parents, probs)\n",
    "    #\n",
    "    #Now, CPT of children would also need to be updated!!\n",
    "    #p(c|z) = p(c|a,b) = p(c|a): meaning entries may repeat \n",
    "    # if not all nodes are parents.\n",
    "    #\n",
    "    #Simplest way would be to query original node for the value!!\n",
    "    #z value would map to values of existing node!!\n",
    "    print(\"Now handling child nodes:\")\n",
    "    for cNode in nNode.children:\n",
    "        nG.remove(cNode)\n",
    "        pPars = cNode.parents\n",
    "        #\n",
    "        #Now create a new child node\n",
    "        nPars = [N for N in pPars if N not in nodes] + [nNode]\n",
    "        nCNode = Vertex(cNode.name)\n",
    "        nCNode.values = [v for v in cNode.values]\n",
    "        nCNode.parents = nPars\n",
    "        nG += [nCNode]\n",
    "        #\n",
    "        #Now, let's build it's CPT\n",
    "        #First the nCNode and then it's parents\n",
    "        probs = []\n",
    "        #Now, enumerate the values for nodes in nPars\n",
    "        # Then using nNodeMap, get the correspondig values for \n",
    "        #   pPars, then get it's prob\n",
    "        # We ensure that prob are populated in correct order!\n",
    "        card = np.prod([n.nCard() for n in nPars])\n",
    "        nVals = [0]*(len(nPars))\n",
    "        for nodeValIdx in range(nCNode.nCard()):\n",
    "            for idx in range(card):\n",
    "                if idx!= 0 or nodeValIdx != 0:\n",
    "                    #TODO: Perhaps remove thsi if by setting \n",
    "                    #      nVals to all 1\n",
    "                    for pIdx in range(len(nPars) -1, -1, -1):\n",
    "                        nVals[pIdx] += 1\n",
    "                        if nVals[pIdx] < nPars[pIdx].nCard():\n",
    "                                break\n",
    "                        nVals[pIdx] = 0\n",
    "                #\n",
    "                #Now nVals[0], refers to the new nCnode\n",
    "                #From this we'll get values for the old parents\n",
    "                # and use cNode.CPT.getP4mIdx(args) :-)\n",
    "                # and append that to prob sequentially\n",
    "                nodeVals = nNodeMap[nVals[-1]]\n",
    "                \"\"\"args = [0]*len(cNode.parents)\n",
    "                for i in range(len(cNode.parents)):\n",
    "                    n = cNode.parents[i]\n",
    "                    if n in nCNode.parents:\n",
    "                        args[i] = nVals[nPars.index(n)]\n",
    "                    else:\n",
    "                        #i is refering to nodes\n",
    "                        # and it has been subsumed by nNode\n",
    "                        args[i] = nodeVals[nodes.index(n)]\n",
    "                #More legently as:\"\"\"\n",
    "                args = []\n",
    "                for n in cNode.parents:\n",
    "                    if n in nCNode.parents:\n",
    "                        args += [nVals[nPars.index(n)]]\n",
    "                    else:\n",
    "                        #i is refering to nodes\n",
    "                        # and it has been subsumed by nNode\n",
    "                        args += [nodeVals[nodes.index(n)]]\n",
    "                probs += [cNode.CPT.getP4mIdx([nodeValIdx]+args)]\n",
    "        nCNode.CPT = CPT([nCNode] + nPars, probs)\n",
    "    setChildren(nG)\n",
    "    return nG"
   ]
  },
  {
   "cell_type": "code",
   "execution_count": 83,
   "metadata": {},
   "outputs": [
    {
     "name": "stdout",
     "output_type": "stream",
     "text": [
      "Now handling child nodes:\n",
      ">> D: Coma\n",
      ">> Z\n",
      "\n",
      "D: C \t| Z \t| Prob\n",
      "====================\n",
      "True \t| 0 \t| 0.8\n",
      "True \t| 1 \t| 0.8\n",
      "True \t| 2 \t| 0.8\n",
      "True \t| 3 \t| 0.05\n",
      "False \t| 0 \t| 0.2\n",
      "False \t| 1 \t| 0.2\n",
      "False \t| 2 \t| 0.2\n",
      "False \t| 3 \t| 0.95\n"
     ]
    }
   ],
   "source": [
    "Z = collapse(G, [B, C], \"Z\")\n",
    "Z[-1].CPT.printCPT()"
   ]
  },
  {
   "cell_type": "code",
   "execution_count": 84,
   "metadata": {},
   "outputs": [
    {
     "data": {
      "text/plain": [
       "['A: Metastatic Cancer', 'Z', 'E: Severe headaches', 'D: Coma']"
      ]
     },
     "execution_count": 84,
     "metadata": {},
     "output_type": "execute_result"
    }
   ],
   "source": [
    "[z.name for z in Z]"
   ]
  },
  {
   "cell_type": "code",
   "execution_count": 85,
   "metadata": {},
   "outputs": [
    {
     "name": "stdout",
     "output_type": "stream",
     "text": [
      ">> D: Coma\n",
      ">> Z\n",
      "\n",
      "D: C \t| Z \t| Prob\n",
      "====================\n",
      "True \t| 0 \t| 0.8\n",
      "True \t| 1 \t| 0.8\n",
      "True \t| 2 \t| 0.8\n",
      "True \t| 3 \t| 0.05\n",
      "False \t| 0 \t| 0.2\n",
      "False \t| 1 \t| 0.2\n",
      "False \t| 2 \t| 0.2\n",
      "False \t| 3 \t| 0.95\n"
     ]
    }
   ],
   "source": [
    "Z[-1].CPT.printCPT()"
   ]
  },
  {
   "cell_type": "code",
   "execution_count": 86,
   "metadata": {},
   "outputs": [
    {
     "name": "stdout",
     "output_type": "stream",
     "text": [
      ">> D: Coma\n",
      ">> B: Increased total serum calcium\n",
      ">> C: Brain tumor\n",
      "\n",
      "D: C \t| B: I,\t C: B \t| Prob\n",
      "====================\n",
      "True \t| True,\t True \t| 0.8\n",
      "True \t| True,\t Fals \t| 0.8\n",
      "True \t| Fals,\t True \t| 0.8\n",
      "True \t| Fals,\t Fals \t| 0.05\n",
      "False \t| True,\t True \t| 0.2\n",
      "False \t| True,\t Fals \t| 0.2\n",
      "False \t| Fals,\t True \t| 0.2\n",
      "False \t| Fals,\t Fals \t| 0.95\n"
     ]
    }
   ],
   "source": [
    "D.CPT.printCPT()"
   ]
  },
  {
   "cell_type": "code",
   "execution_count": 87,
   "metadata": {},
   "outputs": [
    {
     "name": "stdout",
     "output_type": "stream",
     "text": [
      ">> Z\n",
      ">> A: Metastatic Cancer\n",
      "\n",
      "Z \t| A: M \t| Prob\n",
      "====================\n",
      "0 \t| True \t| 0.16000000000000003\n",
      "0 \t| Fals \t| 0.010000000000000002\n",
      "1 \t| True \t| 0.6400000000000001\n",
      "1 \t| Fals \t| 0.19\n",
      "2 \t| True \t| 0.04000000000000001\n",
      "2 \t| Fals \t| 0.04000000000000001\n",
      "3 \t| True \t| 0.16000000000000003\n",
      "3 \t| Fals \t| 0.76\n"
     ]
    }
   ],
   "source": [
    "Z[-3].CPT.printCPT()"
   ]
  },
  {
   "cell_type": "code",
   "execution_count": 80,
   "metadata": {},
   "outputs": [
    {
     "name": "stdout",
     "output_type": "stream",
     "text": [
      ">> D: Coma\n",
      ">> B: Increased total serum calcium\n",
      ">> C: Brain tumor\n",
      "\n",
      "D: C \t| B: I,\t C: B \t| Prob\n",
      "====================\n",
      "True \t| True,\t True \t| 0.8\n",
      "True \t| True,\t Fals \t| 0.8\n",
      "True \t| Fals,\t True \t| 0.8\n",
      "True \t| Fals,\t Fals \t| 0.05\n",
      "False \t| True,\t True \t| 0.2\n",
      "False \t| True,\t Fals \t| 0.2\n",
      "False \t| Fals,\t True \t| 0.2\n",
      "False \t| Fals,\t Fals \t| 0.95\n"
     ]
    }
   ],
   "source": [
    "D.CPT.printCPT()"
   ]
  },
  {
   "cell_type": "code",
   "execution_count": 81,
   "metadata": {},
   "outputs": [
    {
     "data": {
      "text/plain": [
       "'A'"
      ]
     },
     "execution_count": 81,
     "metadata": {},
     "output_type": "execute_result"
    }
   ],
   "source": [
    "'A' if 4 > 3 else 'B'"
   ]
  },
  {
   "cell_type": "code",
   "execution_count": null,
   "metadata": {},
   "outputs": [],
   "source": []
  }
 ],
 "metadata": {
  "kernelspec": {
   "display_name": "Python 3",
   "language": "python",
   "name": "python3"
  },
  "language_info": {
   "codemirror_mode": {
    "name": "ipython",
    "version": 3
   },
   "file_extension": ".py",
   "mimetype": "text/x-python",
   "name": "python",
   "nbconvert_exporter": "python",
   "pygments_lexer": "ipython3",
   "version": "3.6.9"
  }
 },
 "nbformat": 4,
 "nbformat_minor": 2
}
