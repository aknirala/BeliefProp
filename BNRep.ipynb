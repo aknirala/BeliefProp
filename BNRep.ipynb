{
 "cells": [
  {
   "cell_type": "code",
   "execution_count": 25,
   "metadata": {},
   "outputs": [],
   "source": [
    "\"\"\"\n",
    "Vertices will be stored in a list. Better a hashmap, with key \n",
    "as name and value as the vertex object?\n",
    "\n",
    "Each vertex object will have:\n",
    " - List of it’s children.\n",
    " - List of it’s parents.\n",
    " - CPT of x|u where x is the node itself and u is the parent set.\n",
    "   This is inline with the structure of single processor….\n",
    "   It's stored via another object (CPT object)\n",
    " - Finally it’ll have two more lists to store lambda and pi?\n",
    "\n",
    "\n",
    "It'll also get a new graph if we choose to merge two nodes.\n",
    "\n",
    "\n",
    "TODO:\n",
    " - In CPT, also initialze by name of nodes.\n",
    "   So need to pass a map which will have name to node mapping.\n",
    "\"\"\"\n",
    "import numpy as np\n",
    "\n",
    "\n"
   ]
  },
  {
   "cell_type": "code",
   "execution_count": 104,
   "metadata": {},
   "outputs": [],
   "source": [
    "class Vertex:\n",
    "    def __init__(self, name):\n",
    "        self.name = name\n",
    "        self.values = []\n",
    "        self.vIdx = {} #maps index of each value!\n",
    "        self.parents = []\n",
    "        self.children = []\n",
    "        self.lmbda = []\n",
    "        self.pi = []\n",
    "        self.CPT = None\n",
    "        self.is_init = False #Since a vertex would be created\n",
    "        #              such that not all info is present during\n",
    "        #            it's creation, so before using the vertex \n",
    "        #       one would need to initialize it, so that all is\n",
    "        #       ok with it.\n",
    "        #\n",
    "        #Now code, when it is derived from some network:\n",
    "        self.origG = None\n",
    "        self.origNodes = []\n",
    "    \n",
    "    def initializeV(self):\n",
    "        \"\"\"\n",
    "        \n",
    "        \"\"\"\n",
    "        for i in range(len(self.values)):\n",
    "            #if type(self.values[i]) == int:\n",
    "            #    #int can cause confusion as it is also index\n",
    "            #    self.values[i] = str(self.values[i])\n",
    "            self.vIdx[self.values[i]] = i\n",
    "        self.lmbda = [1]*len(self.values)\n",
    "    \n",
    "    def nCard(self):\n",
    "        if not self.is_init:\n",
    "            self.initializeV()\n",
    "        return len(self.values)"
   ]
  },
  {
   "cell_type": "code",
   "execution_count": 103,
   "metadata": {},
   "outputs": [],
   "source": [
    "class CPT:\n",
    "    \"\"\"\n",
    "    Since, CPTs would change if say we:\n",
    "     - decide to merge two nodes (it's v common in loopy n/w).\n",
    "     - We try to condition on one of the node.\n",
    "     \n",
    "    \"\"\"\n",
    "    def __init__(self, nodes, vals):\n",
    "        \"\"\"\n",
    "        nodes is a list of nodes (objects),\n",
    "        vals is list of floating points which are values in \n",
    "        same order as that contained in table field of BIF\n",
    "        \"\"\"\n",
    "        self.nodes = nodes #Q: So at 0, we'll always have the self??\n",
    "        #                        ha ha this is CPT so no self\n",
    "        self.vals = vals\n",
    "        nodes[0].parents = nodes[1:]\n",
    "    \n",
    "    def getP4mIdx(self, args):\n",
    "        \"\"\"\n",
    "        given a list of values of nodes in args,\n",
    "        we'll find the correct value and will return it.\n",
    "        \"\"\"\n",
    "        if len(args) != len(self.nodes):\n",
    "            print(\"args and nodes length\", len(args),\n",
    "                  \"and\", len(nodes), \"mismatched\")\n",
    "        index = 0\n",
    "        nCard = 0\n",
    "        for idx in range(len(args)-1, -1, -1):\n",
    "            valIdx = args[idx]\n",
    "            if nCard == 0:\n",
    "                nCard = self.nodes[idx].nCard()\n",
    "                index += valIdx\n",
    "                continue\n",
    "            \n",
    "            index += nCard*valIdx\n",
    "            nCard *= self.nodes[idx].nCard() #For future values\n",
    "        return self.vals[index]\n",
    "    \n",
    "    def getProb(self, args):\n",
    "        \"\"\"\n",
    "        given a list of values of nodes in args,\n",
    "        we'll find the correct value and will return it.\n",
    "        \"\"\"\n",
    "        if len(args) != len(self.nodes):\n",
    "            print(\"args and nodes length\", len(args),\n",
    "                  \"and\", len(nodes), \"mismatched\")\n",
    "        index = 0\n",
    "        nCard = 0\n",
    "        for idx in range(len(args)-1, -1, -1):\n",
    "            if type(args[idx]) == int and False:\n",
    "                #Not going with this as of now\n",
    "                valIdx = args[idx]\n",
    "            else:\n",
    "                valIdx = self.nodes[idx].vIdx[args[idx]]\n",
    "            \n",
    "            if nCard == 0:\n",
    "                nCard = self.nodes[idx].nCard()\n",
    "                index += valIdx\n",
    "                continue\n",
    "            \n",
    "            index += nCard*valIdx\n",
    "            nCard *= self.nodes[idx].nCard() #For future values\n",
    "        return self.vals[index]\n",
    "    \n",
    "    def printCPT(self):\n",
    "        \"\"\"\n",
    "        print CPT in nice format like:\n",
    "        Node | P1, P2 | Prob\n",
    "        ========================\n",
    "        True | t , t  | 0.1 ... \n",
    "        \"\"\"\n",
    "        for n in self.nodes:\n",
    "            print(\">>\",n.name)\n",
    "        print(\"\")\n",
    "        print(self.nodes[0].name[:4], \"\\t|\", \n",
    "              \",\\t \".join(\n",
    "                  list(map(lambda x: x.name[:4], self.nodes[1:]))\n",
    "              ),\n",
    "              \"\\t| Prob\")\n",
    "        print(\"====================\")\n",
    "        card = np.prod(list(map(lambda x: x.nCard(), self.nodes)))\n",
    "        #Above lambda function invokation seems redundant. Can't \n",
    "        #it simply be done as: [n.nCard for n in self.nodes]??\n",
    "        #\n",
    "        indices = [0]*len(self.nodes)\n",
    "        for i in range(card):\n",
    "            if i!=0:\n",
    "                #update indices\n",
    "                for idx in range(len(indices)-1, -1, -1):\n",
    "                    indices[idx] += 1\n",
    "                    if indices[idx] < self.nodes[idx].nCard():\n",
    "                        break\n",
    "                    indices[idx] = 0\n",
    "            print(self.nodes[0].values[indices[0]], \"\\t|\", \n",
    "              \",\\t \".join(\n",
    "                  list(map(lambda x, idx\n",
    "                           : \n",
    "                           #x.name + str(idx),\n",
    "                        str(x.values[idx])[:4],\n",
    "                        self.nodes[1:],\n",
    "                        indices[1:]\n",
    "                          ))\n",
    "                          \n",
    "              ),\n",
    "              \"\\t| \"+str(self.vals[i]))"
   ]
  },
  {
   "cell_type": "code",
   "execution_count": 100,
   "metadata": {},
   "outputs": [],
   "source": [
    "allV = []\n",
    "allV += [Vertex(\"A\"), Vertex(\"B\"), Vertex(\"C\")]\n",
    "allV[0].values = [1, 2, 3]\n",
    "allV[1].values = [True, False]\n",
    "allV[2].values = [\"Hakun\", \"Matata\"]"
   ]
  },
  {
   "cell_type": "code",
   "execution_count": 101,
   "metadata": {},
   "outputs": [
    {
     "name": "stdout",
     "output_type": "stream",
     "text": [
      "\n",
      "A \t| B,\t C \t| Prob\n",
      "====================\n",
      "1 \t| True,\t Haku \t| 0.1\n",
      "1 \t| True,\t Mata \t| 0.2\n",
      "1 \t| Fals,\t Haku \t| 0.3\n",
      "1 \t| Fals,\t Mata \t| 0.4\n",
      "2 \t| True,\t Haku \t| 0.5\n",
      "2 \t| True,\t Mata \t| 0.6\n",
      "2 \t| Fals,\t Haku \t| 0.7\n",
      "2 \t| Fals,\t Mata \t| 0.8\n",
      "3 \t| True,\t Haku \t| 0.9\n",
      "3 \t| True,\t Mata \t| 1.0\n",
      "3 \t| Fals,\t Haku \t| 1.1\n",
      "3 \t| Fals,\t Mata \t| 1.2\n"
     ]
    }
   ],
   "source": [
    "cpt = CPT(allV, [0.1, 0.2, 0.3, 0.4, 0.5, 0.6, 0.7, 0.8, 0.9, 1.0, 1.1, 1.2])\n",
    "cpt.printCPT()"
   ]
  },
  {
   "cell_type": "code",
   "execution_count": 102,
   "metadata": {},
   "outputs": [
    {
     "data": {
      "text/plain": [
       "0.4"
      ]
     },
     "execution_count": 102,
     "metadata": {},
     "output_type": "execute_result"
    }
   ],
   "source": [
    "cpt.getProb([1, False, \"Matata\"])"
   ]
  },
  {
   "cell_type": "code",
   "execution_count": 6,
   "metadata": {},
   "outputs": [
    {
     "data": {
      "text/plain": [
       "'2'"
      ]
     },
     "execution_count": 6,
     "metadata": {},
     "output_type": "execute_result"
    }
   ],
   "source": [
    "str(2)"
   ]
  },
  {
   "cell_type": "code",
   "execution_count": null,
   "metadata": {},
   "outputs": [],
   "source": []
  }
 ],
 "metadata": {
  "kernelspec": {
   "display_name": "Python 3",
   "language": "python",
   "name": "python3"
  },
  "language_info": {
   "codemirror_mode": {
    "name": "ipython",
    "version": 3
   },
   "file_extension": ".py",
   "mimetype": "text/x-python",
   "name": "python",
   "nbconvert_exporter": "python",
   "pygments_lexer": "ipython3",
   "version": "3.6.9"
  }
 },
 "nbformat": 4,
 "nbformat_minor": 2
}
