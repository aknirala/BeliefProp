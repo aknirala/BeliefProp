{
 "cells": [
  {
   "cell_type": "code",
   "execution_count": 112,
   "metadata": {},
   "outputs": [
    {
     "name": "stdout",
     "output_type": "stream",
     "text": [
      ">> A\n",
      ">> B\n",
      ">> C\n",
      "\n",
      "A \t| B,\t C \t| Prob\n",
      "====================\n",
      "1 \t| True,\t Haku \t| 0.1\n",
      "1 \t| True,\t Mata \t| 0.2\n",
      "1 \t| Fals,\t Haku \t| 0.3\n",
      "1 \t| Fals,\t Mata \t| 0.4\n",
      "2 \t| True,\t Haku \t| 0.5\n",
      "2 \t| True,\t Mata \t| 0.6\n",
      "2 \t| Fals,\t Haku \t| 0.7\n",
      "2 \t| Fals,\t Mata \t| 0.8\n",
      "3 \t| True,\t Haku \t| 0.9\n",
      "3 \t| True,\t Mata \t| 1.0\n",
      "3 \t| Fals,\t Haku \t| 1.1\n",
      "3 \t| Fals,\t Mata \t| 1.2\n"
     ]
    }
   ],
   "source": [
    "\"\"\"\n",
    "Creating alltogether a new graph is not a good idea\n",
    "It will require a lot of deep cloning!\n",
    "\n",
    "We need to update children, and after collapse they should happen \n",
    "\"\"\"\n",
    "%run BNRep.ipynb"
   ]
  },
  {
   "cell_type": "code",
   "execution_count": 113,
   "metadata": {},
   "outputs": [],
   "source": [
    "G = []\n",
    "A = Vertex(\"A: Metastatic Cancer\")\n",
    "B = Vertex(\"B: Increased total serum calcium\")\n",
    "C = Vertex(\"C: Brain tumor\")\n",
    "D = Vertex(\"D: Coma\")\n",
    "E = Vertex(\"E: Severe headaches\")\n",
    "\n",
    "A.values = [False, True]\n",
    "B.values = [False, True]\n",
    "C.values = [False, True]\n",
    "D.values = [False, True]\n",
    "E.values = [False, True]\n",
    "\n",
    "a_cpt = CPT([A], [0.8, 0.2])\n",
    "b_cpt = CPT([B, A], [0.8, 0.2, 0.2, 0.8])\n",
    "c_cpt = CPT([C, A], [0.95, 0.8, 0.05, 0.2])\n",
    "d_cpt = CPT([D, B, C], [0.95, 0.2, 0.2, 0.2, \n",
    "                        0.05, 0.8, 0.8, 0.8])\n",
    "e_cpt = CPT([E, C], [0.4, 0.2, 0.6, 0.8])\n",
    "A.CPT = a_cpt\n",
    "B.CPT = b_cpt\n",
    "C.CPT = c_cpt\n",
    "D.CPT = d_cpt\n",
    "E.CPT = e_cpt\n",
    "\n",
    "G = [A, B, C, D, E]"
   ]
  },
  {
   "cell_type": "code",
   "execution_count": 114,
   "metadata": {},
   "outputs": [],
   "source": [
    "def setChildren(G):\n",
    "    \"\"\"\n",
    "    Given a graph, as list of nodes, it'll update \n",
    "    children for all nodes\n",
    "    \"\"\"\n",
    "    for n in G:\n",
    "        n.children = []\n",
    "        n.is_init = False\n",
    "    for n in G:\n",
    "        for p in n.parents:\n",
    "            p.children += [n]\n",
    "    for n in G:\n",
    "        n.initializeV()"
   ]
  },
  {
   "cell_type": "code",
   "execution_count": 115,
   "metadata": {},
   "outputs": [],
   "source": [
    "def collapse(G, nodes, newName):\n",
    "    \"\"\"\n",
    "    It will return a new graph (aka list of nodes)\n",
    "    where new graph will replace all of the nodes by newNode\n",
    "    \"\"\"\n",
    "    setChildren(G)\n",
    "    nG = [N for N in G if N not in nodes]\n",
    "    pSet = set()\n",
    "    cSet = set()\n",
    "    for n in nodes:\n",
    "        pSet = pSet.union(set(n.parents))\n",
    "        cSet = cSet.union(set(n.children))\n",
    "    nNode = Vertex(newName)\n",
    "    nNode.parents = list(pSet)\n",
    "    nNode.children = list(cSet)\n",
    "    nNode.origG = G\n",
    "    nNode.origNodes = nodes\n",
    "    nG += [nNode]\n",
    "    pCard = np.prod(#[1] +  #So that we have 2 values\n",
    "            [n.nCard() for n in nNode.parents])\n",
    "    #card = prod of all avlues taken by nodes\n",
    "    card = np.prod([n.nCard() for n in nodes])\n",
    "    nNode.values = [i for i in range(card)]\n",
    "    #\n",
    "    #Now, calculate newNode|it's parents\n",
    "    probs = []\n",
    "    nodesVals = [0]*len(nodes)\n",
    "    nNodeMap = {}\n",
    "    for nV in nNode.values:  #Till card\n",
    "        if nV != 0: #then increment values in nodesVals\n",
    "            for idx in range(len(nodes)-1, -1, -1):\n",
    "                nodesVals[idx] += 1\n",
    "                if nodesVals[idx] < nodes[idx].nCard():\n",
    "                        break\n",
    "                nodesVals[idx] = 0\n",
    "        nNodeMap[nV] = [v for v in nodesVals] #Trying to copy \n",
    "        # the list At this point we have values for all the nodes\n",
    "        #Now for each value we'll fill values for all the parents!\n",
    "        pVals = [0]*len(nNode.parents)\n",
    "        for pIdx in range(pCard):\n",
    "            if pIdx != 0:\n",
    "                for idx in range(len(pVals)-1, -1, -1):\n",
    "                    pVals[idx] += 1\n",
    "                    if pVals[idx] < nNode.parents[idx].nCard():\n",
    "                        break\n",
    "                    pVals[idx] = 0\n",
    "            t_prob = 1\n",
    "            for nIdx in range(len(nodes)):\n",
    "                #Find the probability of this node, given\n",
    "                # the value it takes along with it's parent\n",
    "                nArgs = [nodesVals[nIdx]]\n",
    "                node = nodes[nIdx]\n",
    "                for p in node.parents:\n",
    "                    nArgs += [pVals[nNode.parents.index(p)]]\n",
    "                t_prob *= node.CPT.getP4mIdx(nArgs)\n",
    "            probs += [t_prob]\n",
    "    nNode.CPT = CPT([nNode]+nNode.parents, probs)\n",
    "    #\n",
    "    #Now, CPT of children would also need to be updated!!\n",
    "    #p(c|z) = p(c|a,b) = p(c|a): meaning entries may repeat \n",
    "    # if not all nodes are parents.\n",
    "    #\n",
    "    #Simplest way would be to query original node for the value!!\n",
    "    #z value would map to values of existing node!!\n",
    "    print(\"Now handling child nodes:\")\n",
    "    for cNode in nNode.children:\n",
    "        nG.remove(cNode)\n",
    "        pPars = cNode.parents\n",
    "        #\n",
    "        #Now create a new child node\n",
    "        nPars = [N for N in pPars if N not in nodes] + [nNode]\n",
    "        nCNode = Vertex(cNode.name)\n",
    "        nCNode.values = [v for v in cNode.values]\n",
    "        nCNode.parents = nPars\n",
    "        nG += [nCNode]\n",
    "        #\n",
    "        #Now, let's build it's CPT\n",
    "        #First the nCNode and then it's parents\n",
    "        probs = []\n",
    "        #Now, enumerate the values for nodes in nPars\n",
    "        # Then using nNodeMap, get the correspondig values for \n",
    "        #   pPars, then get it's prob\n",
    "        # We ensure that prob are populated in correct order!\n",
    "        card = np.prod([n.nCard() for n in nPars])\n",
    "        nVals = [0]*(len(nPars))\n",
    "        for nodeValIdx in range(nCNode.nCard()):\n",
    "            for idx in range(card):\n",
    "                if idx!= 0 or nodeValIdx != 0:\n",
    "                    #TODO: Perhaps remove thsi if by setting \n",
    "                    #      nVals to all 1\n",
    "                    for pIdx in range(len(nPars) -1, -1, -1):\n",
    "                        nVals[pIdx] += 1\n",
    "                        if nVals[pIdx] < nPars[pIdx].nCard():\n",
    "                                break\n",
    "                        nVals[pIdx] = 0\n",
    "                #\n",
    "                #Now nVals[0], refers to the new nCnode\n",
    "                #From this we'll get values for the old parents\n",
    "                # and use cNode.CPT.getP4mIdx(args) :-)\n",
    "                # and append that to prob sequentially\n",
    "                nodeVals = nNodeMap[nVals[-1]]\n",
    "                \"\"\"args = [0]*len(cNode.parents)\n",
    "                for i in range(len(cNode.parents)):\n",
    "                    n = cNode.parents[i]\n",
    "                    if n in nCNode.parents:\n",
    "                        args[i] = nVals[nPars.index(n)]\n",
    "                    else:\n",
    "                        #i is refering to nodes\n",
    "                        # and it has been subsumed by nNode\n",
    "                        args[i] = nodeVals[nodes.index(n)]\n",
    "                #More legently as:\"\"\"\n",
    "                args = []\n",
    "                for n in cNode.parents:\n",
    "                    if n in nCNode.parents:\n",
    "                        args += [nVals[nPars.index(n)]]\n",
    "                    else:\n",
    "                        #i is refering to nodes\n",
    "                        # and it has been subsumed by nNode\n",
    "                        args += [nodeVals[nodes.index(n)]]\n",
    "                probs += [cNode.CPT.getP4mIdx([nodeValIdx]+args)]\n",
    "        nCNode.CPT = CPT([nCNode] + nPars, probs)\n",
    "    setChildren(nG)\n",
    "    return nG"
   ]
  },
  {
   "cell_type": "code",
   "execution_count": 116,
   "metadata": {},
   "outputs": [
    {
     "name": "stdout",
     "output_type": "stream",
     "text": [
      "Now handling child nodes:\n",
      "\n",
      "\n",
      " A: Metastatic Cancer\n",
      "\n",
      "\n",
      " Z\n",
      "\n",
      "\n",
      " D: Coma\n",
      "\n",
      "\n",
      " E: Severe headaches\n"
     ]
    },
    {
     "data": {
      "text/plain": [
       "['A: Metastatic Cancer', 'Z', 'E: Severe headaches', 'D: Coma']"
      ]
     },
     "execution_count": 116,
     "metadata": {},
     "output_type": "execute_result"
    }
   ],
   "source": [
    "nG = collapse(G, [B, C], \"Z\")\n",
    "print(\"\\n\\n\",nG[0].name)\n",
    "A = nG[0]\n",
    "A.initializePi()\n",
    "\n",
    "print(\"\\n\\n\",nG[1].name)\n",
    "Z = nG[1]\n",
    "Z.initializePi()\n",
    "\n",
    "print(\"\\n\\n\",nG[3].name)\n",
    "D = nG[3]\n",
    "D.initializePi()\n",
    "\n",
    "print(\"\\n\\n\",nG[2].name)\n",
    "E = nG[2]\n",
    "E.initializePi()\n",
    "\n",
    "[z.name for z in nG]"
   ]
  },
  {
   "cell_type": "code",
   "execution_count": 117,
   "metadata": {},
   "outputs": [],
   "source": [
    "order = [A, Z, D, E]\n",
    "for N in order:\n",
    "    N.updateBeliefs()"
   ]
  },
  {
   "cell_type": "code",
   "execution_count": 118,
   "metadata": {},
   "outputs": [],
   "source": [
    "D.nodeLmbda = np.array([1, 0])\n",
    "E.nodeLmbda = np.array([0, 1])"
   ]
  },
  {
   "cell_type": "code",
   "execution_count": 119,
   "metadata": {},
   "outputs": [],
   "source": [
    "order = [D, E, Z, A]"
   ]
  },
  {
   "cell_type": "code",
   "execution_count": 120,
   "metadata": {},
   "outputs": [],
   "source": [
    "for N in order:\n",
    "    N.updateBeliefs()"
   ]
  },
  {
   "cell_type": "code",
   "execution_count": 121,
   "metadata": {},
   "outputs": [
    {
     "data": {
      "text/plain": [
       "(array([[0.90272374, 0.09727626]]),\n",
       " array([[0.88715953, 0.0155642 , 0.08171206, 0.0155642 ]]),\n",
       " array([[0., 1.]]),\n",
       " array([[1., 0.]]))"
      ]
     },
     "execution_count": 121,
     "metadata": {},
     "output_type": "execute_result"
    }
   ],
   "source": [
    "A.BEL, Z.BEL, E.BEL, D.BEL"
   ]
  },
  {
   "cell_type": "code",
   "execution_count": 106,
   "metadata": {},
   "outputs": [
    {
     "data": {
      "text/plain": [
       "(array([1, 0]), array([[0.384, 0.616]]))"
      ]
     },
     "execution_count": 106,
     "metadata": {},
     "output_type": "execute_result"
    }
   ],
   "source": [
    "D.nodeLmbda, D.nodePI"
   ]
  },
  {
   "cell_type": "code",
   "execution_count": 108,
   "metadata": {},
   "outputs": [],
   "source": [
    "BEL = np.multiply(\n",
    "            D.nodeLmbda.reshape(1, -1),\n",
    "            D.nodePI.reshape(1, -1))"
   ]
  },
  {
   "cell_type": "code",
   "execution_count": 111,
   "metadata": {},
   "outputs": [
    {
     "data": {
      "text/plain": [
       "0.384"
      ]
     },
     "execution_count": 111,
     "metadata": {},
     "output_type": "execute_result"
    }
   ],
   "source": [
    "np.sum(BEL)"
   ]
  },
  {
   "cell_type": "code",
   "execution_count": 90,
   "metadata": {},
   "outputs": [
    {
     "data": {
      "text/plain": [
       "(None,\n",
       " array([[0.64, 0.04, 0.28, 0.04]]),\n",
       " [array([1., 1.])],\n",
       " [array([[0.64, 0.04, 0.28, 0.04]]), array([[0.64, 0.04, 0.28, 0.04]])])"
      ]
     },
     "execution_count": 90,
     "metadata": {},
     "output_type": "execute_result"
    }
   ],
   "source": [
    "Z.nodeLmbda, Z.nodePI, A.inLmbda, Z.outPi"
   ]
  },
  {
   "cell_type": "code",
   "execution_count": 91,
   "metadata": {},
   "outputs": [
    {
     "data": {
      "text/plain": [
       "(array([[1., 1., 1., 1.]]),\n",
       " array([[0.64, 0.04, 0.28, 0.04]]),\n",
       " [array([[1., 1.]])],\n",
       " [array([[0.64],\n",
       "         [0.04],\n",
       "         [0.28],\n",
       "         [0.04]]), array([[0.64],\n",
       "         [0.04],\n",
       "         [0.28],\n",
       "         [0.04]])])"
      ]
     },
     "execution_count": 91,
     "metadata": {},
     "output_type": "execute_result"
    }
   ],
   "source": [
    "Z.updateBeliefs()\n",
    "Z.nodeLmbda, Z.nodePI, A.inLmbda, Z.outPi"
   ]
  },
  {
   "cell_type": "code",
   "execution_count": 54,
   "metadata": {},
   "outputs": [
    {
     "data": {
      "text/plain": [
       "(None,\n",
       " array([[0.384, 0.616]]),\n",
       " [array([1., 1., 1., 1.]), array([1., 1., 1., 1.])],\n",
       " [])"
      ]
     },
     "execution_count": 54,
     "metadata": {},
     "output_type": "execute_result"
    }
   ],
   "source": [
    "E.nodeLmbda, E.nodePI, Z.inLmbda, E.outPi"
   ]
  },
  {
   "cell_type": "code",
   "execution_count": 55,
   "metadata": {},
   "outputs": [
    {
     "name": "stdout",
     "output_type": "stream",
     "text": [
      "M:  [array([[0.4, 0.6]]), array([[0.2, 0.8]]), array([[0.4, 0.6]]), array([[0.2, 0.8]])]\n",
      "pPiProd after:  Z  is:  [[0.64]\n",
      " [0.04]\n",
      " [0.28]\n",
      " [0.04]]\n",
      "------------\n"
     ]
    },
    {
     "data": {
      "text/plain": [
       "(array([1., 1.]),\n",
       " array([[0.384, 0.616]]),\n",
       " [array([[1., 1., 1., 1.]]), array([1., 1., 1., 1.])],\n",
       " [])"
      ]
     },
     "execution_count": 55,
     "metadata": {},
     "output_type": "execute_result"
    }
   ],
   "source": [
    "E.updateBeliefs()\n",
    "print(\"------------\")\n",
    "E.nodeLmbda, E.nodePI, Z.inLmbda, E.outPi"
   ]
  },
  {
   "cell_type": "code",
   "execution_count": 56,
   "metadata": {},
   "outputs": [
    {
     "data": {
      "text/plain": [
       "(None,\n",
       " array([[0.68, 0.32]]),\n",
       " [array([[1., 1., 1., 1.]]), array([1., 1., 1., 1.])],\n",
       " [])"
      ]
     },
     "execution_count": 56,
     "metadata": {},
     "output_type": "execute_result"
    }
   ],
   "source": [
    "D.nodeLmbda, D.nodePI, Z.inLmbda, D.outPi"
   ]
  },
  {
   "cell_type": "code",
   "execution_count": 57,
   "metadata": {},
   "outputs": [
    {
     "name": "stdout",
     "output_type": "stream",
     "text": [
      "M:  [array([[0.95, 0.05]]), array([[0.2, 0.8]]), array([[0.2, 0.8]]), array([[0.2, 0.8]])]\n",
      "pPiProd after:  Z  is:  [[0.64]\n",
      " [0.04]\n",
      " [0.28]\n",
      " [0.04]]\n",
      "------------\n"
     ]
    },
    {
     "data": {
      "text/plain": [
       "(array([1., 1.]),\n",
       " array([[0.68, 0.32]]),\n",
       " [array([[1., 1., 1., 1.]]), array([[1., 1., 1., 1.]])],\n",
       " [])"
      ]
     },
     "execution_count": 57,
     "metadata": {},
     "output_type": "execute_result"
    }
   ],
   "source": [
    "D.updateBeliefs()\n",
    "print(\"------------\")\n",
    "D.nodeLmbda, D.nodePI, Z.inLmbda, D.outPi"
   ]
  },
  {
   "cell_type": "code",
   "execution_count": 58,
   "metadata": {},
   "outputs": [],
   "source": [
    "order = [D, E, Z, A]"
   ]
  },
  {
   "cell_type": "code",
   "execution_count": 59,
   "metadata": {},
   "outputs": [],
   "source": [
    "#Now we set values for D and E\n",
    "D.values\n",
    "D.nodeLmbda = np.array([1, 0])\n",
    "E.nodeLmbda = np.array([0, 1])"
   ]
  },
  {
   "cell_type": "code",
   "execution_count": 60,
   "metadata": {},
   "outputs": [
    {
     "name": "stdout",
     "output_type": "stream",
     "text": [
      "M:  [array([[0.95, 0.05]]), array([[0.2, 0.8]]), array([[0.2, 0.8]]), array([[0.2, 0.8]])]\n",
      "pPiProd after:  Z  is:  [[0.64]\n",
      " [0.04]\n",
      " [0.28]\n",
      " [0.04]]\n"
     ]
    }
   ],
   "source": [
    "D.updateBeliefs()"
   ]
  },
  {
   "cell_type": "code",
   "execution_count": 64,
   "metadata": {},
   "outputs": [
    {
     "data": {
      "text/plain": [
       "[array([[1., 1., 1., 1.]]), array([[0.95, 0.2 , 0.2 , 0.2 ]])]"
      ]
     },
     "execution_count": 64,
     "metadata": {},
     "output_type": "execute_result"
    }
   ],
   "source": [
    "Z.inLmbda"
   ]
  },
  {
   "cell_type": "code",
   "execution_count": 65,
   "metadata": {},
   "outputs": [
    {
     "name": "stdout",
     "output_type": "stream",
     "text": [
      "M:  [array([[0.4, 0.6]]), array([[0.2, 0.8]]), array([[0.4, 0.6]]), array([[0.2, 0.8]])]\n",
      "pPiProd after:  Z  is:  [[0.64]\n",
      " [0.04]\n",
      " [0.28]\n",
      " [0.04]]\n"
     ]
    }
   ],
   "source": [
    "E.updateBeliefs()"
   ]
  },
  {
   "cell_type": "code",
   "execution_count": 67,
   "metadata": {},
   "outputs": [
    {
     "data": {
      "text/plain": [
       "[array([[0.6, 0.8, 0.6, 0.8]]), array([[0.95, 0.2 , 0.2 , 0.2 ]])]"
      ]
     },
     "execution_count": 67,
     "metadata": {},
     "output_type": "execute_result"
    }
   ],
   "source": [
    "Z.inLmbda"
   ]
  },
  {
   "cell_type": "code",
   "execution_count": 68,
   "metadata": {},
   "outputs": [
    {
     "data": {
      "text/plain": [
       "(array([[1., 1., 1., 1.]]), array([[0.64, 0.04, 0.28, 0.04]]))"
      ]
     },
     "execution_count": 68,
     "metadata": {},
     "output_type": "execute_result"
    }
   ],
   "source": [
    "Z.nodeLmbda, Z.nodePI"
   ]
  },
  {
   "cell_type": "code",
   "execution_count": null,
   "metadata": {},
   "outputs": [],
   "source": []
  },
  {
   "cell_type": "code",
   "execution_count": 69,
   "metadata": {},
   "outputs": [
    {
     "name": "stdout",
     "output_type": "stream",
     "text": [
      "M:  [array([[0.76, 0.04, 0.19, 0.01]]), array([[0.16, 0.04, 0.64, 0.16]])]\n",
      "pPiProd after:  A: Metastatic Cancer  is:  [[0.8]\n",
      " [0.2]]\n",
      "tLmbda:  [[1.]\n",
      " [1.]\n",
      " [1.]\n",
      " [1.]]\n",
      "tLmbda:  [[1.]\n",
      " [1.]\n",
      " [1.]\n",
      " [1.]]\n"
     ]
    }
   ],
   "source": [
    "Z.updateBeliefs()"
   ]
  },
  {
   "cell_type": "code",
   "execution_count": 70,
   "metadata": {},
   "outputs": [
    {
     "data": {
      "text/plain": [
       "(array([[0.57, 0.16, 0.12, 0.16]]), array([[0.64, 0.04, 0.28, 0.04]]))"
      ]
     },
     "execution_count": 70,
     "metadata": {},
     "output_type": "execute_result"
    }
   ],
   "source": [
    "Z.nodeLmbda, Z.nodePI"
   ]
  },
  {
   "cell_type": "code",
   "execution_count": 71,
   "metadata": {},
   "outputs": [
    {
     "data": {
      "text/plain": [
       "[array([[0.6, 0.8, 0.6, 0.8]]), array([[0.95, 0.2 , 0.2 , 0.2 ]])]"
      ]
     },
     "execution_count": 71,
     "metadata": {},
     "output_type": "execute_result"
    }
   ],
   "source": [
    "Z.inLmbda"
   ]
  },
  {
   "cell_type": "code",
   "execution_count": 81,
   "metadata": {},
   "outputs": [
    {
     "data": {
      "text/plain": [
       "(array([[0.89411765],\n",
       "        [0.01176471],\n",
       "        [0.08235294],\n",
       "        [0.01176471]]), array([[0.62337662],\n",
       "        [0.05194805],\n",
       "        [0.27272727],\n",
       "        [0.05194805]]))"
      ]
     },
     "execution_count": 81,
     "metadata": {},
     "output_type": "execute_result"
    }
   ],
   "source": [
    "Z.outPi[0]/np.sum(Z.outPi[0]), Z.outPi[1]/np.sum(Z.outPi[1])"
   ]
  },
  {
   "cell_type": "code",
   "execution_count": 82,
   "metadata": {},
   "outputs": [
    {
     "data": {
      "text/plain": [
       "[array([[0.464, 0.2  ]])]"
      ]
     },
     "execution_count": 82,
     "metadata": {},
     "output_type": "execute_result"
    }
   ],
   "source": [
    "A.inLmbda"
   ]
  },
  {
   "cell_type": "code",
   "execution_count": 78,
   "metadata": {},
   "outputs": [
    {
     "ename": "AttributeError",
     "evalue": "'numpy.ndarray' object has no attribute 'norm'",
     "output_type": "error",
     "traceback": [
      "\u001b[0;31m---------------------------------------------------------------------------\u001b[0m",
      "\u001b[0;31mAttributeError\u001b[0m                            Traceback (most recent call last)",
      "\u001b[0;32m<ipython-input-78-0dd362f6ef7f>\u001b[0m in \u001b[0;36m<module>\u001b[0;34m\u001b[0m\n\u001b[0;32m----> 1\u001b[0;31m \u001b[0mZ\u001b[0m\u001b[0;34m.\u001b[0m\u001b[0moutPi\u001b[0m\u001b[0;34m[\u001b[0m\u001b[0;36m0\u001b[0m\u001b[0;34m]\u001b[0m\u001b[0;34m.\u001b[0m\u001b[0mnorm\u001b[0m\u001b[0;34m(\u001b[0m\u001b[0;34m)\u001b[0m\u001b[0;34m\u001b[0m\u001b[0;34m\u001b[0m\u001b[0m\n\u001b[0m",
      "\u001b[0;31mAttributeError\u001b[0m: 'numpy.ndarray' object has no attribute 'norm'"
     ]
    }
   ],
   "source": [
    "Z.outPi[0].norm()"
   ]
  },
  {
   "cell_type": "code",
   "execution_count": null,
   "metadata": {},
   "outputs": [],
   "source": []
  },
  {
   "cell_type": "code",
   "execution_count": null,
   "metadata": {},
   "outputs": [],
   "source": []
  },
  {
   "cell_type": "code",
   "execution_count": null,
   "metadata": {},
   "outputs": [],
   "source": []
  },
  {
   "cell_type": "code",
   "execution_count": 28,
   "metadata": {},
   "outputs": [
    {
     "name": "stdout",
     "output_type": "stream",
     "text": [
      "M:  [array([[0.4, 0.6]]), array([[0.2, 0.8]]), array([[0.4, 0.6]]), array([[0.2, 0.8]])]\n",
      "pPiProd after:  Z  is:  [[0.64]\n",
      " [0.04]\n",
      " [0.28]\n",
      " [0.04]]\n",
      "M:  [array([[0.95, 0.05]]), array([[0.2, 0.8]]), array([[0.2, 0.8]]), array([[0.2, 0.8]])]\n",
      "pPiProd after:  Z  is:  [[0.64]\n",
      " [0.04]\n",
      " [0.28]\n",
      " [0.04]]\n",
      "M:  [array([[0.76, 0.04, 0.19, 0.01]]), array([[0.16, 0.04, 0.64, 0.16]])]\n",
      "pPiProd after:  A: Metastatic Cancer  is:  [[0.8]\n",
      " [0.2]]\n",
      "tLmbda:  [[1.]\n",
      " [1.]\n",
      " [1.]\n",
      " [1.]]\n",
      "tLmbda:  [[1.]\n",
      " [1.]\n",
      " [1.]\n",
      " [1.]]\n",
      "tLmbda:  [[1.]\n",
      " [1.]]\n"
     ]
    }
   ],
   "source": [
    "for n in order:\n",
    "    n.updateBeliefs()"
   ]
  },
  {
   "cell_type": "code",
   "execution_count": 40,
   "metadata": {},
   "outputs": [
    {
     "name": "stdout",
     "output_type": "stream",
     "text": [
      "M:  [array([[0.76, 0.04, 0.19, 0.01]]), array([[0.16, 0.04, 0.64, 0.16]])]\n",
      "pPiProd after:  A: Metastatic Cancer  is:  [[0.8]\n",
      " [0.2]]\n",
      "tLmbda:  [[1.]\n",
      " [1.]\n",
      " [1.]\n",
      " [1.]]\n",
      "tLmbda:  [[1.]\n",
      " [1.]\n",
      " [1.]\n",
      " [1.]]\n",
      "M:  [array([[0.95, 0.05]]), array([[0.2, 0.8]]), array([[0.2, 0.8]]), array([[0.2, 0.8]])]\n",
      "pPiProd after:  Z  is:  [[0.256]\n",
      " [0.008]\n",
      " [0.112]\n",
      " [0.008]]\n",
      "M:  [array([[0.4, 0.6]]), array([[0.2, 0.8]]), array([[0.4, 0.6]]), array([[0.2, 0.8]])]\n",
      "pPiProd after:  Z  is:  [[0.032]\n",
      " [0.032]\n",
      " [0.224]\n",
      " [0.032]]\n"
     ]
    }
   ],
   "source": [
    "for n in list(reversed(order))[1:]:\n",
    "    n.updateBeliefs()"
   ]
  },
  {
   "cell_type": "code",
   "execution_count": 43,
   "metadata": {},
   "outputs": [
    {
     "data": {
      "text/plain": [
       "([array([[0.8],\n",
       "         [0.2]])],\n",
       " [array([[0.05, 0.8 , 0.8 , 0.8 ]]), array([[0.4, 0.2, 0.4, 0.2]])],\n",
       " array([[0.02, 0.16, 0.32, 0.16]]))"
      ]
     },
     "execution_count": 43,
     "metadata": {},
     "output_type": "execute_result"
    }
   ],
   "source": [
    "A.outPi, Z.inLmbda, Z.nodeLmbda"
   ]
  },
  {
   "cell_type": "code",
   "execution_count": 39,
   "metadata": {},
   "outputs": [
    {
     "data": {
      "text/plain": [
       "['Z', 'D: Coma', 'E: Severe headaches']"
      ]
     },
     "execution_count": 39,
     "metadata": {},
     "output_type": "execute_result"
    }
   ],
   "source": [
    "[a.name for a in list(reversed(order))[1:]]"
   ]
  },
  {
   "cell_type": "code",
   "execution_count": null,
   "metadata": {},
   "outputs": [],
   "source": []
  },
  {
   "cell_type": "code",
   "execution_count": 33,
   "metadata": {},
   "outputs": [
    {
     "data": {
      "text/plain": [
       "<list_reverseiterator at 0x7f15bd58b358>"
      ]
     },
     "execution_count": 33,
     "metadata": {},
     "output_type": "execute_result"
    }
   ],
   "source": [
    "reversed(order)"
   ]
  },
  {
   "cell_type": "code",
   "execution_count": null,
   "metadata": {},
   "outputs": [],
   "source": []
  },
  {
   "cell_type": "code",
   "execution_count": 19,
   "metadata": {},
   "outputs": [
    {
     "name": "stdout",
     "output_type": "stream",
     "text": [
      "E: Severe headaches :  False , val idx:  0\n",
      "D: Coma :  True , val idx:  1\n"
     ]
    }
   ],
   "source": [
    "#Now, belief propagation!!\n",
    "e = {}\n",
    "e[3] = False\n",
    "e[2] = True\n",
    "\n",
    "for idx in e.keys():\n",
    "    print(nG[idx].name,': ',e[idx],', val idx: ',\n",
    "          nG[idx].values.index(e[idx]))"
   ]
  },
  {
   "cell_type": "code",
   "execution_count": 20,
   "metadata": {},
   "outputs": [],
   "source": [
    "\"\"\"\n",
    "To run BP efficiently, one can find topological order and \n",
    "follow it.\n",
    "\n",
    "Or less efficiently, simply iterate and do it. But keep iterating\n",
    "till any node changes value. A change would  be updated by a \n",
    "dirty flag.\n",
    "\n",
    "However, here we'll do it manually. So no iteration. \n",
    "Hard code the seq.\n",
    "\"\"\"\n",
    "#set all lambdas to 1\n",
    "for n in nG:\n",
    "    n.lmbda = [1]*len(n.values)\n",
    "\n",
    "#Now setting pi for all\n",
    "A = nG[0]\n",
    "Z = nG[1]\n",
    "E = nG[2]\n",
    "D = nG[3]\n",
    "A.pi = A.CPT.getCPT()[0]\n",
    "#Z.pi = \n",
    "\n",
    "#Now set BEL as pi, coz lambdas are anyway 1"
   ]
  },
  {
   "cell_type": "code",
   "execution_count": null,
   "metadata": {},
   "outputs": [],
   "source": []
  }
 ],
 "metadata": {
  "kernelspec": {
   "display_name": "Python 3",
   "language": "python",
   "name": "python3"
  },
  "language_info": {
   "codemirror_mode": {
    "name": "ipython",
    "version": 3
   },
   "file_extension": ".py",
   "mimetype": "text/x-python",
   "name": "python",
   "nbconvert_exporter": "python",
   "pygments_lexer": "ipython3",
   "version": "3.6.9"
  }
 },
 "nbformat": 4,
 "nbformat_minor": 2
}
