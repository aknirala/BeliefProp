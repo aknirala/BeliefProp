{
 "cells": [
  {
   "cell_type": "code",
   "execution_count": 2,
   "metadata": {},
   "outputs": [],
   "source": [
    "\"\"\"\n",
    "Vertices will be stored in a list. Better a hashmap, with key \n",
    "as name and value as the vertex object?\n",
    "\n",
    "Each vertex object will have:\n",
    " - List of it’s children.\n",
    " - List of it’s parents.\n",
    " - CPT of x|u where x is the node itself and u is the parent set.\n",
    "   This is inline with the structure of single processor….\n",
    "   It's stored via another object (CPT object)\n",
    " - Finally it’ll have two more lists to store lambda and pi?\n",
    "\n",
    "\n",
    "It'll also get a new graph if we choose to merge two nodes.\n",
    "\n",
    "\n",
    "TODO:\n",
    " - In CPT, also initialze by name of nodes.\n",
    "   So need to pass a map which will have name to node mapping.\n",
    "\"\"\"\n",
    "import numpy as np\n",
    "\n",
    "\n"
   ]
  },
  {
   "cell_type": "code",
   "execution_count": 38,
   "metadata": {},
   "outputs": [],
   "source": [
    "class Vertex:\n",
    "    def __init__(self, name):\n",
    "        self.name = name\n",
    "        self.values = []\n",
    "        self.vIdx = {} #maps index of each value!\n",
    "        self.parents = []\n",
    "        self.children = []\n",
    "        #Each node/vertex needs to store incoming lmbda \n",
    "        # and outgoing pi. This is coz they will be same \n",
    "        # in dimension as values it takes.\n",
    "        self.inLmbda = []\n",
    "        self.outPi = []\n",
    "        #self.is_init = False\n",
    "        self.nodePI = None\n",
    "        self.nodeLmbda = None\n",
    "        self.CPT = None\n",
    "        self.BEL = None\n",
    "        self.is_init = False #Since a vertex would be created\n",
    "        #              such that not all info is present during\n",
    "        #            it's creation, so before using the vertex \n",
    "        #       one would need to initialize it, so that all is\n",
    "        #       ok with it.\n",
    "        #\n",
    "        #Now code, when it is derived from some network:\n",
    "        self.origG = None\n",
    "        self.origNodes = []\n",
    "    \n",
    "    def initializeV(self):\n",
    "        \"\"\"\n",
    "        \n",
    "        \"\"\"\n",
    "        if self.is_init:\n",
    "            return\n",
    "        #    \n",
    "        self.is_init = True\n",
    "        for i in range(len(self.values)):\n",
    "            #if type(self.values[i]) == int:\n",
    "            #    #int can cause confusion as it is also index\n",
    "            #    self.values[i] = str(self.values[i])\n",
    "            self.vIdx[self.values[i]] = i\n",
    "        \n",
    "        self.inLmbda = []\n",
    "        #self.initializePi()\n",
    "        for p in self.children:\n",
    "            self.inLmbda += [np.ones(len(self.values))]\n",
    "            #self.outPi += [np.ones(len(self.values))]\n",
    "    \n",
    "    def getPiProdCross(self, exclNodes):\n",
    "        \"\"\"\n",
    "        exclNodes is a list of nodes to be excluded while\n",
    "        calculating pi-prod.\n",
    "        This function is used to get cross prod of pi coming\n",
    "        from parents. It is used to calc pi and also pi going\n",
    "        out.\n",
    "        \"\"\"\n",
    "        if exclNodes is None:\n",
    "            exclNodes = []\n",
    "        pPiProd = None\n",
    "        for p in self.parents: #goin in order\n",
    "            if p in exclNodes:\n",
    "                continue\n",
    "            if pPiProd is None:\n",
    "                pPiProd = p.outPi[\n",
    "                    p.children.index(self)\n",
    "                ].reshape(-1, 1)\n",
    "            else:\n",
    "                pPiProd = np.multiply(\n",
    "                    pPiProd,\n",
    "                    p.outPi[\n",
    "                        p.children.index(self)\n",
    "                    ].reshape(1, -1)\n",
    "                ).reshape(-1, 1)\n",
    "        if pPiProd is None: #only one parent!\n",
    "            pPiProd = np.array([1.0])\n",
    "        return pPiProd\n",
    "        \n",
    "    \n",
    "    def initializePi(self):\n",
    "        \"\"\"\n",
    "        For the very first run, one needs to initialize all the pi\n",
    "        for root it is simply p, so that is set to all children.\n",
    "        for non-root, it'll look at parents outPi (assumed \n",
    "        populated (responsibility of caller to maintain the \n",
    "        order)), take cross-product in right order,\n",
    "        then with the vector obtained will multiply the M (CPT)\n",
    "        and will populate it's outPi.\n",
    "        Since all lmbda is 1 at this point so we need not worry.\n",
    "        \"\"\"\n",
    "        cpt = self.CPT.getCPT()\n",
    "        if len(self.parents) == 0:\n",
    "            self.nodePI = cpt[0].reshape(-1, 1)\n",
    "        else:\n",
    "            #take inner product of outPi for parents in order, \n",
    "            # then multiply that with cpt.\n",
    "            pPiProd = None\n",
    "            for p in self.parents: #goin in order\n",
    "                if pPiProd is None:\n",
    "                    pPiProd = p.outPi[\n",
    "                        p.children.index(self)\n",
    "                    ].reshape(-1, 1)\n",
    "                else:\n",
    "                    pPiProd = np.multiply(\n",
    "                        pPiProd,\n",
    "                        p.outPi[\n",
    "                            p.children.index(self)\n",
    "                        ].reshape(1, -1)\n",
    "                    ).reshape(-1, 1)\n",
    "            self.nodePI = np.dot(pPiProd.T, cpt)\n",
    "        self.outPi = []\n",
    "        for _ in self.children:\n",
    "            self.outPi += [self.nodePI.copy()]\n",
    "            \n",
    "    \n",
    "    def nCard(self):\n",
    "        if not self.is_init:\n",
    "            self.initializeV()\n",
    "        return len(self.values)\n",
    "    \n",
    "    def updatePi(self):\n",
    "        \"\"\"\n",
    "        This will update the outgoing pi, wrt incoming pi and \n",
    "        lmbda.\n",
    "        Caller should ensure that the call is not redundant \n",
    "        i.e., call only when something has changed.\n",
    "        \"\"\"\n",
    "    \n",
    "    def updateBeliefs(self):\n",
    "        \"\"\"\n",
    "        It assumes that incoming pi and lambda has already been\n",
    "        updated (often only one will).\n",
    "        \n",
    "        Depending on that it updates outgoing lmbda and pi.\n",
    "        Outgoing lmbda needs to be updated into it's parents node.\n",
    "        \"\"\"\n",
    "        #Now, need to populate it first,\n",
    "        if len(self.children) != 0:\n",
    "            #Else, either it'll be all 1 or \n",
    "            # 1-hot, if the node is initialized\n",
    "            #\n",
    "            self.nodeLmbda = None\n",
    "            #It's a simple multiplication\n",
    "            for i in range(len(self.inLmbda)):\n",
    "                if self.nodeLmbda is None:\n",
    "                    self.nodeLmbda = self.inLmbda[i]\n",
    "                else:\n",
    "                    self.nodeLmbda = np.multiply(\n",
    "                        self.nodeLmbda, self.inLmbda[i])\n",
    "            self.nodeLmbda = self.nodeLmbda.reshape([1, -1])\n",
    "        \n",
    "        if self.nodeLmbda is None:\n",
    "            self.nodeLmbda = np.ones(len(self.values))\n",
    "        if len(self.parents) != 0:\n",
    "            #Else: lmbda won't need updating\n",
    "            for i in range(len(self.parents)):\n",
    "                p = self.parents[i]\n",
    "                M = self.CPT.getCPTS(p)\n",
    "                pPiProd = self.getPiProdCross(\n",
    "                    [p]).reshape([1, -1])\n",
    "                oLmbda = []\n",
    "                for m in M:\n",
    "                    temp = np.dot(pPiProd, m)\n",
    "                    oLmbda += [np.dot(temp.reshape(-1),\n",
    "                                     self.nodeLmbda.reshape(-1))]\n",
    "                    #oLmbda += np.dot(\n",
    "                    #    np.dot(pPiProd, m), self.nodeLmbda)\n",
    "                p.inLmbda[p.children.index(\n",
    "                    self)] = np.array(oLmbda).reshape([1, -1])\n",
    "        \n",
    "        if len(self.parents) != 0:\n",
    "            #This one is to update pi\n",
    "            pPiProd = self.getPiProdCross([]).reshape([1, -1])\n",
    "            M = self.CPT.getCPT()\n",
    "            self.nodePI = np.dot(pPiProd, M)\n",
    "        #else: self.nodePI won't change :-)\n",
    "        \n",
    "        if len(self.children) != 0:\n",
    "            #Else: pi won't need updating\n",
    "            self.outPi = []\n",
    "            for i in range(len(self.inLmbda)):\n",
    "                tLmbda = np.ones(len(self.values)).reshape([-1,1])\n",
    "                for j in range(len(self.inLmbda)):\n",
    "                    if i==j:\n",
    "                        continue\n",
    "                    tLmbda = np.multiply(\n",
    "                        tLmbda, \n",
    "                        self.inLmbda[j].reshape([-1,1]))\n",
    "                self.outPi += [np.multiply(\n",
    "                    tLmbda, \n",
    "                    self.nodePI.reshape([-1,1]))]\n",
    "                #Normalizing the pi\n",
    "                self.outPi[-1] = self.outPi[-1]/sum(\n",
    "                    self.outPi[-1])\n",
    "        \"\"\"\n",
    "        Now if multiple nodes are merged, we can identify (save) the\n",
    "        order in which their values was merged. A bit cumbersome, but \n",
    "        could be done.\n",
    "        \"\"\"\n",
    "        self.BEL = np.multiply(\n",
    "            self.nodeLmbda.reshape(1, -1),\n",
    "            self.nodePI.reshape(1, -1))\n",
    "        self.BEL = self.BEL/np.sum(self.BEL)\n",
    "        "
   ]
  },
  {
   "cell_type": "code",
   "execution_count": 35,
   "metadata": {
    "scrolled": false
   },
   "outputs": [
    {
     "data": {
      "text/plain": [
       "(array([1, 2]), array([3, 4]), (2,), 11)"
      ]
     },
     "execution_count": 35,
     "metadata": {},
     "output_type": "execute_result"
    }
   ],
   "source": [
    "a = np.array([1, 2])\n",
    "b = np.array([3, 4])\n",
    "a, b, a.shape, np.dot(a, b)"
   ]
  },
  {
   "cell_type": "code",
   "execution_count": 53,
   "metadata": {},
   "outputs": [
    {
     "data": {
      "text/plain": [
       "(array([[1., 1.]]), array([1., 1.]))"
      ]
     },
     "execution_count": 53,
     "metadata": {},
     "output_type": "execute_result"
    }
   ],
   "source": [
    "np.ones(2).reshape([1,-1]), np.ones(2)"
   ]
  },
  {
   "cell_type": "code",
   "execution_count": 27,
   "metadata": {},
   "outputs": [
    {
     "data": {
      "text/plain": [
       "array([[3],\n",
       "       [4],\n",
       "       [6],\n",
       "       [8]])"
      ]
     },
     "execution_count": 27,
     "metadata": {},
     "output_type": "execute_result"
    }
   ],
   "source": [
    "np.multiply(a.reshape(-1, 1),  b.reshape(1, -1)).reshape(-1, 1)"
   ]
  },
  {
   "cell_type": "code",
   "execution_count": 49,
   "metadata": {},
   "outputs": [
    {
     "data": {
      "text/plain": [
       "5"
      ]
     },
     "execution_count": 49,
     "metadata": {},
     "output_type": "execute_result"
    }
   ],
   "source": [
    "L = [4, 5, 7, 3, 4]\n",
    "L.pop(1)\n"
   ]
  },
  {
   "cell_type": "code",
   "execution_count": 33,
   "metadata": {},
   "outputs": [
    {
     "data": {
      "text/plain": [
       "False"
      ]
     },
     "execution_count": 33,
     "metadata": {},
     "output_type": "execute_result"
    }
   ],
   "source": [
    "1 == 2"
   ]
  },
  {
   "cell_type": "code",
   "execution_count": null,
   "metadata": {},
   "outputs": [],
   "source": []
  },
  {
   "cell_type": "code",
   "execution_count": 103,
   "metadata": {},
   "outputs": [],
   "source": [
    "class CPT:\n",
    "    \"\"\"\n",
    "    Since, CPTs would change if say we:\n",
    "     - decide to merge two nodes (it's v common in loopy n/w).\n",
    "     - We try to condition on one of the node.\n",
    "     \n",
    "    \"\"\"\n",
    "    def __init__(self, nodes, vals):\n",
    "        \"\"\"\n",
    "        nodes is a list of nodes (objects),\n",
    "        vals is list of floating points which are values in \n",
    "        same order as that contained in table field of BIF\n",
    "        \"\"\"\n",
    "        self.nodes = nodes #Q: So at 0, we'll always have the self??\n",
    "        #                        ha ha this is CPT so no self\n",
    "        self.vals = vals\n",
    "        nodes[0].parents = nodes[1:]\n",
    "        \n",
    "    \n",
    "    def getCPT(self):\n",
    "        \"\"\"\n",
    "        simply returns an np array where,\n",
    "            col represent: prob for a fixed val, of node (aka first index). \n",
    "                given all combination of parents.\n",
    "        So, #col = node card\n",
    "        and #rows = Prod (parents card)\n",
    "        \"\"\"\n",
    "        nRow = int(np.prod([n.nCard() for n in self.nodes[1:]]))\n",
    "        nCol = self.nodes[0].nCard()\n",
    "        M = np.zeros([nRow, nCol])\n",
    "        #This will be just rearranging probs\n",
    "        i = 0\n",
    "        for c in range(nCol):\n",
    "            for r in range(nRow):\n",
    "                M[r][c] = self.vals[i]\n",
    "                i += 1\n",
    "        return M\n",
    "    \n",
    "    def getCPTS(self, U):\n",
    "        \"\"\"\n",
    "        It'll return an array of size |U| (aka value taken by \n",
    "        the node U), where U is one of the parents and it has\n",
    "        been excluded.\n",
    "        \"\"\"\n",
    "        M = self.getCPT()\n",
    "        #Now we need to split M in |U| parts.\n",
    "        # If nodes following U take in totla K vale: K = prod (ui)\n",
    "        # then k rows will go to first matrix\n",
    "        # next k to another\n",
    "        # till |U| matrices and after that:\n",
    "        # |U| + 1 will again get concatenated to the first matrix\n",
    "        # |U| + 2 to second and so on...#\n",
    "        #\n",
    "        #Ok, we'll do it as per:\n",
    "        #   https://stackoverflow.com/a/42817678/1953366\n",
    "        #We get n-dimension array.\n",
    "        dims = [n.nCard() for n in self.nodes[1:]] + [-1]\n",
    "        R = M.reshape(dims)\n",
    "        UIdx = self.nodes.index(U) - 1\n",
    "        dims.pop(UIdx)\n",
    "        if len(dims) == 1:\n",
    "            dims = [1] + dims\n",
    "        return [R.take(i, axis = UIdx).reshape(dims) \n",
    "                for i in range(len(U.values))]\n",
    "    \n",
    "    def getP4mIdx(self, args):\n",
    "        \"\"\"\n",
    "        given a list of values of nodes in args,\n",
    "        we'll find the correct value and will return it.\n",
    "        \"\"\"\n",
    "        if len(args) != len(self.nodes):\n",
    "            print(\"args and nodes length\", len(args),\n",
    "                  \"and\", len(nodes), \"mismatched\")\n",
    "        index = 0\n",
    "        nCard = 0\n",
    "        for idx in range(len(args)-1, -1, -1):\n",
    "            valIdx = args[idx]\n",
    "            if nCard == 0:\n",
    "                nCard = self.nodes[idx].nCard()\n",
    "                index += valIdx\n",
    "                continue\n",
    "            \n",
    "            index += nCard*valIdx\n",
    "            nCard *= self.nodes[idx].nCard() #For future values\n",
    "        return self.vals[index]\n",
    "    \n",
    "    def getProb(self, args):\n",
    "        \"\"\"\n",
    "        given a list of values of nodes in args,\n",
    "        we'll find the correct value and will return it.\n",
    "        \"\"\"\n",
    "        if len(args) != len(self.nodes):\n",
    "            print(\"args and nodes length\", len(args),\n",
    "                  \"and\", len(nodes), \"mismatched\")\n",
    "        index = 0\n",
    "        nCard = 0\n",
    "        for idx in range(len(args)-1, -1, -1):\n",
    "            if type(args[idx]) == int and False:\n",
    "                #Not going with this as of now\n",
    "                valIdx = args[idx]\n",
    "            else:\n",
    "                valIdx = self.nodes[idx].vIdx[args[idx]]\n",
    "            \n",
    "            if nCard == 0:\n",
    "                nCard = self.nodes[idx].nCard()\n",
    "                index += valIdx\n",
    "                continue\n",
    "            \n",
    "            index += nCard*valIdx\n",
    "            nCard *= self.nodes[idx].nCard() #For future values\n",
    "        return self.vals[index]\n",
    "    \n",
    "    def printCPT(self):\n",
    "        \"\"\"\n",
    "        print CPT in nice format like:\n",
    "        Node | P1, P2 | Prob\n",
    "        ========================\n",
    "        True | t , t  | 0.1 ... \n",
    "        \"\"\"\n",
    "        for n in self.nodes:\n",
    "            print(\">>\",n.name)\n",
    "        print(\"\")\n",
    "        print(self.nodes[0].name[:4], \"\\t|\", \n",
    "              \",\\t \".join(\n",
    "                  list(map(lambda x: x.name[:4], self.nodes[1:]))\n",
    "              ),\n",
    "              \"\\t| Prob\")\n",
    "        print(\"====================\")\n",
    "        card = np.prod(list(map(lambda x: x.nCard(), self.nodes)))\n",
    "        #Above lambda function invokation seems redundant. Can't \n",
    "        #it simply be done as: [n.nCard for n in self.nodes]??\n",
    "        #\n",
    "        indices = [0]*len(self.nodes)\n",
    "        for i in range(card):\n",
    "            if i!=0:\n",
    "                #update indices\n",
    "                for idx in range(len(indices)-1, -1, -1):\n",
    "                    indices[idx] += 1\n",
    "                    if indices[idx] < self.nodes[idx].nCard():\n",
    "                        break\n",
    "                    indices[idx] = 0\n",
    "            print(self.nodes[0].values[indices[0]], \"\\t|\", \n",
    "              \",\\t \".join(\n",
    "                  list(map(lambda x, idx\n",
    "                           : \n",
    "                           #x.name + str(idx),\n",
    "                        str(x.values[idx])[:4],\n",
    "                        self.nodes[1:],\n",
    "                        indices[1:]\n",
    "                          ))\n",
    "                          \n",
    "              ),\n",
    "              \"\\t| \"+str(self.vals[i]))"
   ]
  },
  {
   "cell_type": "code",
   "execution_count": 100,
   "metadata": {},
   "outputs": [],
   "source": [
    "allV = []\n",
    "allV += [Vertex(\"A\"), Vertex(\"B\"), Vertex(\"C\")]\n",
    "allV[0].values = [1, 2, 3]\n",
    "allV[1].values = [True, False]\n",
    "allV[2].values = [\"Hakun\", \"Matata\"]"
   ]
  },
  {
   "cell_type": "code",
   "execution_count": 101,
   "metadata": {},
   "outputs": [
    {
     "name": "stdout",
     "output_type": "stream",
     "text": [
      "\n",
      "A \t| B,\t C \t| Prob\n",
      "====================\n",
      "1 \t| True,\t Haku \t| 0.1\n",
      "1 \t| True,\t Mata \t| 0.2\n",
      "1 \t| Fals,\t Haku \t| 0.3\n",
      "1 \t| Fals,\t Mata \t| 0.4\n",
      "2 \t| True,\t Haku \t| 0.5\n",
      "2 \t| True,\t Mata \t| 0.6\n",
      "2 \t| Fals,\t Haku \t| 0.7\n",
      "2 \t| Fals,\t Mata \t| 0.8\n",
      "3 \t| True,\t Haku \t| 0.9\n",
      "3 \t| True,\t Mata \t| 1.0\n",
      "3 \t| Fals,\t Haku \t| 1.1\n",
      "3 \t| Fals,\t Mata \t| 1.2\n"
     ]
    }
   ],
   "source": [
    "cpt = CPT(allV, [0.1, 0.2, 0.3, 0.4, 0.5, 0.6, 0.7, 0.8, 0.9, 1.0, 1.1, 1.2])\n",
    "cpt.printCPT()"
   ]
  },
  {
   "cell_type": "code",
   "execution_count": 3,
   "metadata": {},
   "outputs": [],
   "source": [
    "import numpy as np"
   ]
  },
  {
   "cell_type": "code",
   "execution_count": 8,
   "metadata": {},
   "outputs": [
    {
     "data": {
      "text/plain": [
       "array([[ 0,  1,  2],\n",
       "       [10, 11, 12],\n",
       "       [20, 21, 22],\n",
       "       [30, 31, 32],\n",
       "       [40, 41, 42],\n",
       "       [50, 51, 52],\n",
       "       [60, 61, 62],\n",
       "       [70, 71, 72]])"
      ]
     },
     "execution_count": 8,
     "metadata": {},
     "output_type": "execute_result"
    }
   ],
   "source": [
    "M = np.array([[i*10 + j for j in range(3)] for i in range(8)])\n",
    "M"
   ]
  },
  {
   "cell_type": "code",
   "execution_count": 21,
   "metadata": {},
   "outputs": [
    {
     "data": {
      "text/plain": [
       "array([[[[ 0,  1,  2],\n",
       "         [10, 11, 12]],\n",
       "\n",
       "        [[20, 21, 22],\n",
       "         [30, 31, 32]]],\n",
       "\n",
       "\n",
       "       [[[40, 41, 42],\n",
       "         [50, 51, 52]],\n",
       "\n",
       "        [[60, 61, 62],\n",
       "         [70, 71, 72]]]])"
      ]
     },
     "execution_count": 21,
     "metadata": {},
     "output_type": "execute_result"
    }
   ],
   "source": [
    "R = M.reshape([2, 2, 2, -1])\n",
    "R"
   ]
  },
  {
   "cell_type": "code",
   "execution_count": 31,
   "metadata": {},
   "outputs": [
    {
     "data": {
      "text/plain": [
       "array([[[ 0,  1,  2],\n",
       "        [20, 21, 22]],\n",
       "\n",
       "       [[40, 41, 42],\n",
       "        [60, 61, 62]]])"
      ]
     },
     "execution_count": 31,
     "metadata": {},
     "output_type": "execute_result"
    }
   ],
   "source": [
    "R.take(0, axis=2)"
   ]
  },
  {
   "cell_type": "code",
   "execution_count": 26,
   "metadata": {},
   "outputs": [],
   "source": [
    "M1 = R.take(0, axis=2)"
   ]
  },
  {
   "cell_type": "code",
   "execution_count": 27,
   "metadata": {},
   "outputs": [
    {
     "data": {
      "text/plain": [
       "(2, 2, 3)"
      ]
     },
     "execution_count": 27,
     "metadata": {},
     "output_type": "execute_result"
    }
   ],
   "source": [
    "M1.shape"
   ]
  },
  {
   "cell_type": "code",
   "execution_count": 28,
   "metadata": {},
   "outputs": [],
   "source": [
    "M1[0,0,0] = 100"
   ]
  },
  {
   "cell_type": "code",
   "execution_count": 29,
   "metadata": {},
   "outputs": [
    {
     "data": {
      "text/plain": [
       "array([[[100,   1,   2],\n",
       "        [ 20,  21,  22]],\n",
       "\n",
       "       [[ 40,  41,  42],\n",
       "        [ 60,  61,  62]]])"
      ]
     },
     "execution_count": 29,
     "metadata": {},
     "output_type": "execute_result"
    }
   ],
   "source": [
    "M1"
   ]
  },
  {
   "cell_type": "code",
   "execution_count": 30,
   "metadata": {},
   "outputs": [
    {
     "data": {
      "text/plain": [
       "array([[[[ 0,  1,  2],\n",
       "         [10, 11, 12]],\n",
       "\n",
       "        [[20, 21, 22],\n",
       "         [30, 31, 32]]],\n",
       "\n",
       "\n",
       "       [[[40, 41, 42],\n",
       "         [50, 51, 52]],\n",
       "\n",
       "        [[60, 61, 62],\n",
       "         [70, 71, 72]]]])"
      ]
     },
     "execution_count": 30,
     "metadata": {},
     "output_type": "execute_result"
    }
   ],
   "source": [
    "R"
   ]
  },
  {
   "cell_type": "code",
   "execution_count": null,
   "metadata": {},
   "outputs": [],
   "source": []
  }
 ],
 "metadata": {
  "kernelspec": {
   "display_name": "Python 3",
   "language": "python",
   "name": "python3"
  },
  "language_info": {
   "codemirror_mode": {
    "name": "ipython",
    "version": 3
   },
   "file_extension": ".py",
   "mimetype": "text/x-python",
   "name": "python",
   "nbconvert_exporter": "python",
   "pygments_lexer": "ipython3",
   "version": "3.6.9"
  }
 },
 "nbformat": 4,
 "nbformat_minor": 2
}
