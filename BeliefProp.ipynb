{
 "cells": [
  {
   "cell_type": "code",
   "execution_count": 18,
   "metadata": {},
   "outputs": [
    {
     "name": "stdout",
     "output_type": "stream",
     "text": [
      ">> A\n",
      ">> B\n",
      ">> C\n",
      "\n",
      "A \t| B,\t C \t| Prob\n",
      "====================\n",
      "1 \t| True,\t Haku \t| 0.1\n",
      "1 \t| True,\t Mata \t| 0.2\n",
      "1 \t| Fals,\t Haku \t| 0.3\n",
      "1 \t| Fals,\t Mata \t| 0.4\n",
      "2 \t| True,\t Haku \t| 0.5\n",
      "2 \t| True,\t Mata \t| 0.6\n",
      "2 \t| Fals,\t Haku \t| 0.7\n",
      "2 \t| Fals,\t Mata \t| 0.8\n",
      "3 \t| True,\t Haku \t| 0.9\n",
      "3 \t| True,\t Mata \t| 1.0\n",
      "3 \t| Fals,\t Haku \t| 1.1\n",
      "3 \t| Fals,\t Mata \t| 1.2\n"
     ]
    }
   ],
   "source": [
    "\"\"\"\n",
    "Creating alltogether a new graph is not a good idea\n",
    "It will require a lot of deep cloning!\n",
    "\n",
    "We need to update children, and after collapse they should happen \n",
    "\"\"\"\n",
    "%run BNRep.ipynb"
   ]
  },
  {
   "cell_type": "code",
   "execution_count": 19,
   "metadata": {},
   "outputs": [],
   "source": [
    "G = []\n",
    "A = Vertex(\"A: Metastatic Cancer\")\n",
    "B = Vertex(\"B: Increased total serum calcium\")\n",
    "C = Vertex(\"C: Brain tumor\")\n",
    "D = Vertex(\"D: Coma\")\n",
    "E = Vertex(\"E: Severe headaches\")\n",
    "\n",
    "A.values = [True, False]\n",
    "B.values = [True, False]\n",
    "C.values = [True, False]\n",
    "D.values = [True, False]\n",
    "E.values = [True, False]\n",
    "\n",
    "a_cpt = CPT([A], [0.2, 0.8])\n",
    "b_cpt = CPT([B, A], [0.8, 0.2, 0.2, 0.8])\n",
    "c_cpt = CPT([C, A], [0.2, 0.05, 0.8, 0.95])\n",
    "d_cpt = CPT([D, B, C], [0.8, 0.8, 0.8, 0.05, \n",
    "                        0.2, 0.2, 0.2, 0.95])\n",
    "e_cpt = CPT([E, C], [0.8, 0.6, 0.2, 0.4])\n",
    "A.CPT = a_cpt\n",
    "B.CPT = b_cpt\n",
    "C.CPT = c_cpt\n",
    "D.CPT = d_cpt\n",
    "E.CPT = e_cpt\n",
    "\n",
    "G = [A, B, C, D, E]"
   ]
  },
  {
   "cell_type": "code",
   "execution_count": 21,
   "metadata": {},
   "outputs": [],
   "source": [
    "def collapse(G, nodes, newName):\n",
    "    \"\"\"\n",
    "    It will return a new graph (aka list of nodes)\n",
    "    where new graph will replace all of the nodes by newNode\n",
    "    \"\"\"\n",
    "    nG = [N for N in G if N not in nodes]\n",
    "    pSet = set()\n",
    "    cSet = set()\n",
    "    for n in nodes:\n",
    "        pSet = pSet.union(set(n.parents))\n",
    "        cSet = cSet.union(set(n.children))\n",
    "    nNode = Vertex(newName)\n",
    "    nNode.parents = list(pSet)\n",
    "    nNode.children = list(cSet)\n",
    "    nNode.origG = G\n",
    "    nNode.origNodes = nodes\n",
    "    nG += [nNode]\n",
    "    #print(pSet)\n",
    "    #print(nNode.parents)\n",
    "    #for n in nNode.parents:\n",
    "    #    print(n.name)\n",
    "    pCard = np.prod(#[1] +  #So that we have 2 values\n",
    "            [n.nCard() for n in nNode.parents])\n",
    "    #card = prod of all avlues taken by nodes\n",
    "    card = np.prod([n.nCard() for n in nodes])\n",
    "    nNode.values = [i for i in range(card)]\n",
    "    #\n",
    "    #Now, calculate newNode|it's parents\n",
    "    probs = []\n",
    "    nodesVals = [0]*len(nodes)\n",
    "    nNodeMap = {}\n",
    "    for nV in nNode.values:  #Till card\n",
    "        if nV != 0: #then increment values in nodesVals\n",
    "            for idx in range(len(nodes)-1, -1, -1):\n",
    "                nodesVals[idx] += 1\n",
    "                if nodesVals[idx] < nodes[idx].nCard():\n",
    "                        break\n",
    "                nodesVals[idx] = 0\n",
    "        nNodeMap[nV] = [v for v in nodesVals] #Trying to copy the list\n",
    "        #At this point we have values for all the nodes\n",
    "        #Now for each value we'll fill values for all the parents!\n",
    "        pVals = [0]*len(nNode.parents)\n",
    "        for pIdx in range(pCard):\n",
    "            if pIdx != 0:\n",
    "                for idx in range(len(nNode.parents)-1, -1, -1):\n",
    "                    pVals[idx] += 1\n",
    "                    if pVals[idx] < nNode.parents[idx].nCard():\n",
    "                        break\n",
    "                    pVals[idx] = 0\n",
    "            t_prob = 1\n",
    "            for nIdx in range(len(nodes)):\n",
    "                #Find the probability of this node, given\n",
    "                # the value it takes along with it's parent\n",
    "                nArgs = [nodesVals[nIdx]]\n",
    "                node = nodes[nIdx]\n",
    "                for p in node.parents:\n",
    "                    nArgs += [pVals[nNode.parents.index(p)]]\n",
    "                t_prob *= node.CPT.getP4mIdx(nArgs)\n",
    "            probs += [t_prob]\n",
    "    nNode.CPT = CPT([nNode]+nNode.parents, probs)\n",
    "    #\n",
    "    #Now, CPT of children would also need to be updated!!\n",
    "    #p(c|z) = p(c|a,b) = p(c|a): meaning entries may repeat if not all nodes\n",
    "    # are parents.\n",
    "    #Simplest way would be to query original node for the value!!\n",
    "    #z value would map to values of existing node!!\n",
    "    for cNode in nNode.children:\n",
    "        nG.remove(cNode)\n",
    "        nCNode = Vertex(cNode.name)\n",
    "        pPars = nCNode.parents\n",
    "        nPars = [N for N in pPars if N not in nodes] + [nNode]\n",
    "        prob = []\n",
    "        #Now, enumerate the values for nodes in nPars\n",
    "        # Then using nNodeMap, get the correspondig values for pPars, then get it's prob\n",
    "        card = np.prod([n.nCard() for n in [cNode] + nPars])\n",
    "        nVals = [0]*(len(nPars) + 1)\n",
    "        for idx in range(card):\n",
    "            if idx!= 0:\n",
    "                \n",
    "    return nG"
   ]
  },
  {
   "cell_type": "code",
   "execution_count": 22,
   "metadata": {},
   "outputs": [
    {
     "name": "stdout",
     "output_type": "stream",
     "text": [
      ">> Z\n",
      ">> A: Metastatic Cancer\n",
      "\n",
      "Z \t| A: M \t| Prob\n",
      "====================\n",
      "0 \t| True \t| 0.16000000000000003\n",
      "0 \t| Fals \t| 0.010000000000000002\n",
      "1 \t| True \t| 0.6400000000000001\n",
      "1 \t| Fals \t| 0.19\n",
      "2 \t| True \t| 0.04000000000000001\n",
      "2 \t| Fals \t| 0.04000000000000001\n",
      "3 \t| True \t| 0.16000000000000003\n",
      "3 \t| Fals \t| 0.76\n"
     ]
    }
   ],
   "source": [
    "Z = collapse(G, [B, C], \"Z\").CPT.printCPT()"
   ]
  },
  {
   "cell_type": "code",
   "execution_count": 17,
   "metadata": {},
   "outputs": [
    {
     "name": "stdout",
     "output_type": "stream",
     "text": [
      ">> Z\n",
      ">> A: Metastatic Cancer\n",
      "\n",
      "Z \t| A: M \t| Prob\n",
      "====================\n",
      "0 \t| True \t| 0.16000000000000003\n",
      "0 \t| Fals \t| 0.010000000000000002\n",
      "1 \t| True \t| 0.04000000000000001\n",
      "1 \t| Fals \t| 0.04000000000000001\n",
      "2 \t| True \t| 0.6400000000000001\n",
      "2 \t| Fals \t| 0.19\n",
      "3 \t| True \t| 0.16000000000000003\n",
      "3 \t| Fals \t| 0.76\n"
     ]
    }
   ],
   "source": [
    "collapse(G, [C, B], \"Z\").CPT.printCPT()"
   ]
  },
  {
   "cell_type": "code",
   "execution_count": 23,
   "metadata": {},
   "outputs": [],
   "source": [
    "L = [A, B , C]"
   ]
  },
  {
   "cell_type": "code",
   "execution_count": 25,
   "metadata": {},
   "outputs": [
    {
     "data": {
      "text/plain": [
       "('A: Metastatic Cancer', 'B: Increased total serum calcium', 'C: Brain tumor')"
      ]
     },
     "execution_count": 25,
     "metadata": {},
     "output_type": "execute_result"
    }
   ],
   "source": [
    "L[0].name, L[1].name, L[2].name\n"
   ]
  },
  {
   "cell_type": "code",
   "execution_count": 26,
   "metadata": {},
   "outputs": [],
   "source": [
    "L.remove(B)"
   ]
  },
  {
   "cell_type": "code",
   "execution_count": 27,
   "metadata": {},
   "outputs": [
    {
     "data": {
      "text/plain": [
       "('A: Metastatic Cancer', 'C: Brain tumor')"
      ]
     },
     "execution_count": 27,
     "metadata": {},
     "output_type": "execute_result"
    }
   ],
   "source": [
    "L[0].name, L[1].name"
   ]
  },
  {
   "cell_type": "code",
   "execution_count": null,
   "metadata": {},
   "outputs": [],
   "source": []
  }
 ],
 "metadata": {
  "kernelspec": {
   "display_name": "Python 3",
   "language": "python",
   "name": "python3"
  },
  "language_info": {
   "codemirror_mode": {
    "name": "ipython",
    "version": 3
   },
   "file_extension": ".py",
   "mimetype": "text/x-python",
   "name": "python",
   "nbconvert_exporter": "python",
   "pygments_lexer": "ipython3",
   "version": "3.6.9"
  }
 },
 "nbformat": 4,
 "nbformat_minor": 2
}
